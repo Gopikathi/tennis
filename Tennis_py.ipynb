{
 "cells": [
  {
   "cell_type": "code",
   "execution_count": 76,
   "metadata": {},
   "outputs": [],
   "source": [
    "import numpy as np\n",
    "from sklearn.pipeline import Pipeline\n",
    "from sklearn.compose import ColumnTransformer\n",
    "\n",
    "from sklearn.preprocessing import StandardScaler, OneHotEncoder\n",
    "from sklearn.impute import SimpleImputer\n",
    "\n",
    "from sklearn.model_selection import train_test_split\n",
    "\n",
    "from sklearn.ensemble import RandomForestClassifier\n",
    "from sklearn.ensemble import AdaBoostClassifier\n",
    "from sklearn.ensemble import GradientBoostingClassifier\n"
   ]
  },
  {
   "cell_type": "code",
   "execution_count": 77,
   "metadata": {},
   "outputs": [],
   "source": [
    "import pandas as pd\n",
    "tennis_data=pd.read_csv(\"tennis.csv\")"
   ]
  },
  {
   "cell_type": "code",
   "execution_count": 78,
   "metadata": {},
   "outputs": [
    {
     "data": {
      "text/plain": [
       "Index(['rally', 'serve', 'hitpoint', 'speed', 'net.clearance',\n",
       "       'distance.from.sideline', 'depth', 'outside.sideline',\n",
       "       'outside.baseline', 'player.distance.travelled', 'player.impact.depth',\n",
       "       'player.impact.distance.from.center', 'player.depth',\n",
       "       'player.distance.from.center', 'previous.speed',\n",
       "       'previous.net.clearance', 'previous.distance.from.sideline',\n",
       "       'previous.depth', 'opponent.depth', 'opponent.distance.from.center',\n",
       "       'same.side', 'previous.hitpoint', 'previous.time.to.net',\n",
       "       'server.is.impact.player', 'outcome', 'gender', 'ID'],\n",
       "      dtype='object')"
      ]
     },
     "execution_count": 78,
     "metadata": {},
     "output_type": "execute_result"
    }
   ],
   "source": [
    "tennis_data.columns"
   ]
  },
  {
   "cell_type": "code",
   "execution_count": 79,
   "metadata": {},
   "outputs": [
    {
     "data": {
      "text/plain": [
       "rally                                   int64\n",
       "serve                                   int64\n",
       "hitpoint                               object\n",
       "speed                                 float64\n",
       "net.clearance                         float64\n",
       "distance.from.sideline                float64\n",
       "depth                                 float64\n",
       "outside.sideline                         bool\n",
       "outside.baseline                         bool\n",
       "player.distance.travelled             float64\n",
       "player.impact.depth                   float64\n",
       "player.impact.distance.from.center    float64\n",
       "player.depth                          float64\n",
       "player.distance.from.center           float64\n",
       "previous.speed                        float64\n",
       "previous.net.clearance                float64\n",
       "previous.distance.from.sideline       float64\n",
       "previous.depth                        float64\n",
       "opponent.depth                        float64\n",
       "opponent.distance.from.center         float64\n",
       "same.side                                bool\n",
       "previous.hitpoint                      object\n",
       "previous.time.to.net                  float64\n",
       "server.is.impact.player                  bool\n",
       "outcome                                object\n",
       "gender                                 object\n",
       "ID                                      int64\n",
       "dtype: object"
      ]
     },
     "execution_count": 79,
     "metadata": {},
     "output_type": "execute_result"
    }
   ],
   "source": [
    "tennis_data.dtypes"
   ]
  },
  {
   "cell_type": "code",
   "execution_count": 80,
   "metadata": {},
   "outputs": [],
   "source": [
    " tennis_data.drop('ID',axis=1,inplace=True)"
   ]
  },
  {
   "cell_type": "code",
   "execution_count": 81,
   "metadata": {},
   "outputs": [
    {
     "data": {
      "text/html": [
       "<div>\n",
       "<style scoped>\n",
       "    .dataframe tbody tr th:only-of-type {\n",
       "        vertical-align: middle;\n",
       "    }\n",
       "\n",
       "    .dataframe tbody tr th {\n",
       "        vertical-align: top;\n",
       "    }\n",
       "\n",
       "    .dataframe thead th {\n",
       "        text-align: right;\n",
       "    }\n",
       "</style>\n",
       "<table border=\"1\" class=\"dataframe\">\n",
       "  <thead>\n",
       "    <tr style=\"text-align: right;\">\n",
       "      <th></th>\n",
       "      <th>rally</th>\n",
       "      <th>serve</th>\n",
       "      <th>hitpoint</th>\n",
       "      <th>speed</th>\n",
       "      <th>net.clearance</th>\n",
       "      <th>distance.from.sideline</th>\n",
       "      <th>depth</th>\n",
       "      <th>outside.sideline</th>\n",
       "      <th>outside.baseline</th>\n",
       "      <th>player.distance.travelled</th>\n",
       "      <th>...</th>\n",
       "      <th>previous.distance.from.sideline</th>\n",
       "      <th>previous.depth</th>\n",
       "      <th>opponent.depth</th>\n",
       "      <th>opponent.distance.from.center</th>\n",
       "      <th>same.side</th>\n",
       "      <th>previous.hitpoint</th>\n",
       "      <th>previous.time.to.net</th>\n",
       "      <th>server.is.impact.player</th>\n",
       "      <th>outcome</th>\n",
       "      <th>gender</th>\n",
       "    </tr>\n",
       "  </thead>\n",
       "  <tbody>\n",
       "    <tr>\n",
       "      <th>0</th>\n",
       "      <td>4</td>\n",
       "      <td>1</td>\n",
       "      <td>B</td>\n",
       "      <td>35.515042</td>\n",
       "      <td>-0.021725</td>\n",
       "      <td>3.474766</td>\n",
       "      <td>6.797621</td>\n",
       "      <td>False</td>\n",
       "      <td>False</td>\n",
       "      <td>1.467570</td>\n",
       "      <td>...</td>\n",
       "      <td>2.449182</td>\n",
       "      <td>0.705435</td>\n",
       "      <td>12.5628</td>\n",
       "      <td>2.0724</td>\n",
       "      <td>True</td>\n",
       "      <td>F</td>\n",
       "      <td>0.445318</td>\n",
       "      <td>False</td>\n",
       "      <td>UE</td>\n",
       "      <td>mens</td>\n",
       "    </tr>\n",
       "    <tr>\n",
       "      <th>1</th>\n",
       "      <td>4</td>\n",
       "      <td>2</td>\n",
       "      <td>B</td>\n",
       "      <td>33.382640</td>\n",
       "      <td>1.114202</td>\n",
       "      <td>2.540801</td>\n",
       "      <td>2.608708</td>\n",
       "      <td>False</td>\n",
       "      <td>True</td>\n",
       "      <td>2.311931</td>\n",
       "      <td>...</td>\n",
       "      <td>0.583291</td>\n",
       "      <td>3.856600</td>\n",
       "      <td>12.3544</td>\n",
       "      <td>5.1124</td>\n",
       "      <td>False</td>\n",
       "      <td>B</td>\n",
       "      <td>0.432434</td>\n",
       "      <td>False</td>\n",
       "      <td>FE</td>\n",
       "      <td>mens</td>\n",
       "    </tr>\n",
       "    <tr>\n",
       "      <th>2</th>\n",
       "      <td>23</td>\n",
       "      <td>1</td>\n",
       "      <td>B</td>\n",
       "      <td>22.316690</td>\n",
       "      <td>-0.254046</td>\n",
       "      <td>3.533166</td>\n",
       "      <td>9.435749</td>\n",
       "      <td>False</td>\n",
       "      <td>False</td>\n",
       "      <td>3.903728</td>\n",
       "      <td>...</td>\n",
       "      <td>1.115250</td>\n",
       "      <td>2.908892</td>\n",
       "      <td>13.8620</td>\n",
       "      <td>1.6564</td>\n",
       "      <td>False</td>\n",
       "      <td>F</td>\n",
       "      <td>0.397538</td>\n",
       "      <td>True</td>\n",
       "      <td>FE</td>\n",
       "      <td>mens</td>\n",
       "    </tr>\n",
       "    <tr>\n",
       "      <th>3</th>\n",
       "      <td>9</td>\n",
       "      <td>1</td>\n",
       "      <td>F</td>\n",
       "      <td>36.837309</td>\n",
       "      <td>0.766694</td>\n",
       "      <td>0.586885</td>\n",
       "      <td>3.342180</td>\n",
       "      <td>True</td>\n",
       "      <td>False</td>\n",
       "      <td>0.583745</td>\n",
       "      <td>...</td>\n",
       "      <td>3.256695</td>\n",
       "      <td>0.557554</td>\n",
       "      <td>14.2596</td>\n",
       "      <td>0.1606</td>\n",
       "      <td>True</td>\n",
       "      <td>B</td>\n",
       "      <td>0.671984</td>\n",
       "      <td>True</td>\n",
       "      <td>UE</td>\n",
       "      <td>mens</td>\n",
       "    </tr>\n",
       "    <tr>\n",
       "      <th>4</th>\n",
       "      <td>4</td>\n",
       "      <td>1</td>\n",
       "      <td>B</td>\n",
       "      <td>35.544208</td>\n",
       "      <td>0.116162</td>\n",
       "      <td>0.918725</td>\n",
       "      <td>5.499119</td>\n",
       "      <td>False</td>\n",
       "      <td>False</td>\n",
       "      <td>2.333456</td>\n",
       "      <td>...</td>\n",
       "      <td>1.431146</td>\n",
       "      <td>3.945317</td>\n",
       "      <td>11.3658</td>\n",
       "      <td>1.1082</td>\n",
       "      <td>False</td>\n",
       "      <td>F</td>\n",
       "      <td>0.340411</td>\n",
       "      <td>False</td>\n",
       "      <td>W</td>\n",
       "      <td>mens</td>\n",
       "    </tr>\n",
       "    <tr>\n",
       "      <th>...</th>\n",
       "      <td>...</td>\n",
       "      <td>...</td>\n",
       "      <td>...</td>\n",
       "      <td>...</td>\n",
       "      <td>...</td>\n",
       "      <td>...</td>\n",
       "      <td>...</td>\n",
       "      <td>...</td>\n",
       "      <td>...</td>\n",
       "      <td>...</td>\n",
       "      <td>...</td>\n",
       "      <td>...</td>\n",
       "      <td>...</td>\n",
       "      <td>...</td>\n",
       "      <td>...</td>\n",
       "      <td>...</td>\n",
       "      <td>...</td>\n",
       "      <td>...</td>\n",
       "      <td>...</td>\n",
       "      <td>...</td>\n",
       "      <td>...</td>\n",
       "    </tr>\n",
       "    <tr>\n",
       "      <th>7996</th>\n",
       "      <td>4</td>\n",
       "      <td>2</td>\n",
       "      <td>F</td>\n",
       "      <td>36.693201</td>\n",
       "      <td>0.186101</td>\n",
       "      <td>0.457670</td>\n",
       "      <td>4.026966</td>\n",
       "      <td>False</td>\n",
       "      <td>False</td>\n",
       "      <td>3.068317</td>\n",
       "      <td>...</td>\n",
       "      <td>3.283354</td>\n",
       "      <td>3.106719</td>\n",
       "      <td>12.5438</td>\n",
       "      <td>1.5368</td>\n",
       "      <td>False</td>\n",
       "      <td>F</td>\n",
       "      <td>0.684150</td>\n",
       "      <td>False</td>\n",
       "      <td>W</td>\n",
       "      <td>womens</td>\n",
       "    </tr>\n",
       "    <tr>\n",
       "      <th>7997</th>\n",
       "      <td>5</td>\n",
       "      <td>2</td>\n",
       "      <td>B</td>\n",
       "      <td>33.505322</td>\n",
       "      <td>0.985032</td>\n",
       "      <td>2.767406</td>\n",
       "      <td>0.275569</td>\n",
       "      <td>False</td>\n",
       "      <td>True</td>\n",
       "      <td>3.747929</td>\n",
       "      <td>...</td>\n",
       "      <td>0.422930</td>\n",
       "      <td>3.674636</td>\n",
       "      <td>13.5470</td>\n",
       "      <td>0.9754</td>\n",
       "      <td>False</td>\n",
       "      <td>F</td>\n",
       "      <td>0.620857</td>\n",
       "      <td>True</td>\n",
       "      <td>UE</td>\n",
       "      <td>womens</td>\n",
       "    </tr>\n",
       "    <tr>\n",
       "      <th>7998</th>\n",
       "      <td>10</td>\n",
       "      <td>2</td>\n",
       "      <td>F</td>\n",
       "      <td>16.906289</td>\n",
       "      <td>0.674401</td>\n",
       "      <td>0.525043</td>\n",
       "      <td>2.005257</td>\n",
       "      <td>False</td>\n",
       "      <td>False</td>\n",
       "      <td>7.931349</td>\n",
       "      <td>...</td>\n",
       "      <td>1.897760</td>\n",
       "      <td>9.208275</td>\n",
       "      <td>11.6748</td>\n",
       "      <td>2.0146</td>\n",
       "      <td>False</td>\n",
       "      <td>B</td>\n",
       "      <td>0.966186</td>\n",
       "      <td>False</td>\n",
       "      <td>W</td>\n",
       "      <td>womens</td>\n",
       "    </tr>\n",
       "    <tr>\n",
       "      <th>7999</th>\n",
       "      <td>6</td>\n",
       "      <td>2</td>\n",
       "      <td>F</td>\n",
       "      <td>15.199713</td>\n",
       "      <td>0.936015</td>\n",
       "      <td>3.365840</td>\n",
       "      <td>1.459378</td>\n",
       "      <td>False</td>\n",
       "      <td>False</td>\n",
       "      <td>11.454605</td>\n",
       "      <td>...</td>\n",
       "      <td>0.421844</td>\n",
       "      <td>8.975572</td>\n",
       "      <td>6.9750</td>\n",
       "      <td>1.2324</td>\n",
       "      <td>False</td>\n",
       "      <td>B</td>\n",
       "      <td>0.887608</td>\n",
       "      <td>False</td>\n",
       "      <td>W</td>\n",
       "      <td>womens</td>\n",
       "    </tr>\n",
       "    <tr>\n",
       "      <th>8000</th>\n",
       "      <td>3</td>\n",
       "      <td>1</td>\n",
       "      <td>F</td>\n",
       "      <td>30.679540</td>\n",
       "      <td>-0.033674</td>\n",
       "      <td>2.324743</td>\n",
       "      <td>6.268853</td>\n",
       "      <td>False</td>\n",
       "      <td>False</td>\n",
       "      <td>1.795455</td>\n",
       "      <td>...</td>\n",
       "      <td>3.124238</td>\n",
       "      <td>2.138042</td>\n",
       "      <td>12.6112</td>\n",
       "      <td>3.8698</td>\n",
       "      <td>False</td>\n",
       "      <td>B</td>\n",
       "      <td>0.562388</td>\n",
       "      <td>True</td>\n",
       "      <td>UE</td>\n",
       "      <td>womens</td>\n",
       "    </tr>\n",
       "  </tbody>\n",
       "</table>\n",
       "<p>8001 rows × 26 columns</p>\n",
       "</div>"
      ],
      "text/plain": [
       "      rally  serve hitpoint      speed  net.clearance  distance.from.sideline  \\\n",
       "0         4      1        B  35.515042      -0.021725                3.474766   \n",
       "1         4      2        B  33.382640       1.114202                2.540801   \n",
       "2        23      1        B  22.316690      -0.254046                3.533166   \n",
       "3         9      1        F  36.837309       0.766694                0.586885   \n",
       "4         4      1        B  35.544208       0.116162                0.918725   \n",
       "...     ...    ...      ...        ...            ...                     ...   \n",
       "7996      4      2        F  36.693201       0.186101                0.457670   \n",
       "7997      5      2        B  33.505322       0.985032                2.767406   \n",
       "7998     10      2        F  16.906289       0.674401                0.525043   \n",
       "7999      6      2        F  15.199713       0.936015                3.365840   \n",
       "8000      3      1        F  30.679540      -0.033674                2.324743   \n",
       "\n",
       "         depth  outside.sideline  outside.baseline  player.distance.travelled  \\\n",
       "0     6.797621             False             False                   1.467570   \n",
       "1     2.608708             False              True                   2.311931   \n",
       "2     9.435749             False             False                   3.903728   \n",
       "3     3.342180              True             False                   0.583745   \n",
       "4     5.499119             False             False                   2.333456   \n",
       "...        ...               ...               ...                        ...   \n",
       "7996  4.026966             False             False                   3.068317   \n",
       "7997  0.275569             False              True                   3.747929   \n",
       "7998  2.005257             False             False                   7.931349   \n",
       "7999  1.459378             False             False                  11.454605   \n",
       "8000  6.268853             False             False                   1.795455   \n",
       "\n",
       "      ...  previous.distance.from.sideline  previous.depth  opponent.depth  \\\n",
       "0     ...                         2.449182        0.705435         12.5628   \n",
       "1     ...                         0.583291        3.856600         12.3544   \n",
       "2     ...                         1.115250        2.908892         13.8620   \n",
       "3     ...                         3.256695        0.557554         14.2596   \n",
       "4     ...                         1.431146        3.945317         11.3658   \n",
       "...   ...                              ...             ...             ...   \n",
       "7996  ...                         3.283354        3.106719         12.5438   \n",
       "7997  ...                         0.422930        3.674636         13.5470   \n",
       "7998  ...                         1.897760        9.208275         11.6748   \n",
       "7999  ...                         0.421844        8.975572          6.9750   \n",
       "8000  ...                         3.124238        2.138042         12.6112   \n",
       "\n",
       "      opponent.distance.from.center  same.side  previous.hitpoint  \\\n",
       "0                            2.0724       True                  F   \n",
       "1                            5.1124      False                  B   \n",
       "2                            1.6564      False                  F   \n",
       "3                            0.1606       True                  B   \n",
       "4                            1.1082      False                  F   \n",
       "...                             ...        ...                ...   \n",
       "7996                         1.5368      False                  F   \n",
       "7997                         0.9754      False                  F   \n",
       "7998                         2.0146      False                  B   \n",
       "7999                         1.2324      False                  B   \n",
       "8000                         3.8698      False                  B   \n",
       "\n",
       "      previous.time.to.net  server.is.impact.player  outcome  gender  \n",
       "0                 0.445318                    False       UE    mens  \n",
       "1                 0.432434                    False       FE    mens  \n",
       "2                 0.397538                     True       FE    mens  \n",
       "3                 0.671984                     True       UE    mens  \n",
       "4                 0.340411                    False        W    mens  \n",
       "...                    ...                      ...      ...     ...  \n",
       "7996              0.684150                    False        W  womens  \n",
       "7997              0.620857                     True       UE  womens  \n",
       "7998              0.966186                    False        W  womens  \n",
       "7999              0.887608                    False        W  womens  \n",
       "8000              0.562388                     True       UE  womens  \n",
       "\n",
       "[8001 rows x 26 columns]"
      ]
     },
     "execution_count": 81,
     "metadata": {},
     "output_type": "execute_result"
    }
   ],
   "source": [
    "tennis_data"
   ]
  },
  {
   "cell_type": "code",
   "execution_count": 82,
   "metadata": {},
   "outputs": [],
   "source": [
    "X = tennis_data.drop('outcome',axis=1)\n",
    "y = tennis_data['outcome']\n"
   ]
  },
  {
   "cell_type": "code",
   "execution_count": 83,
   "metadata": {},
   "outputs": [],
   "source": [
    "cat_cols=X.select_dtypes(include=[\"object\",\"category\",\"bool\"]).columns"
   ]
  },
  {
   "cell_type": "code",
   "execution_count": 84,
   "metadata": {},
   "outputs": [],
   "source": [
    "num_cols = X.select_dtypes(include=['float64', 'int64']).columns"
   ]
  },
  {
   "cell_type": "code",
   "execution_count": 85,
   "metadata": {},
   "outputs": [],
   "source": [
    "X[cat_cols]=X[cat_cols].astype(\"category\")\n"
   ]
  },
  {
   "cell_type": "code",
   "execution_count": 86,
   "metadata": {},
   "outputs": [
    {
     "data": {
      "text/plain": [
       "0       UE\n",
       "1       FE\n",
       "2       FE\n",
       "3       UE\n",
       "4        W\n",
       "        ..\n",
       "7996     W\n",
       "7997    UE\n",
       "7998     W\n",
       "7999     W\n",
       "8000    UE\n",
       "Name: outcome, Length: 8001, dtype: object"
      ]
     },
     "execution_count": 86,
     "metadata": {},
     "output_type": "execute_result"
    }
   ],
   "source": [
    "y"
   ]
  },
  {
   "cell_type": "code",
   "execution_count": 87,
   "metadata": {},
   "outputs": [],
   "source": [
    "X_train, X_test, y_train, y_test = train_test_split(X, y,stratify=y,test_size=0.30, random_state=123)\n"
   ]
  },
  {
   "cell_type": "code",
   "execution_count": 88,
   "metadata": {},
   "outputs": [],
   "source": [
    "from sklearn.preprocessing import LabelEncoder\n",
    "le=LabelEncoder()\n",
    "le.fit_transform(y_train)\n",
    "\n",
    "y_train=le.transform(y_train)\n",
    "y_test=le.transform(y_test)"
   ]
  },
  {
   "cell_type": "code",
   "execution_count": 89,
   "metadata": {},
   "outputs": [],
   "source": [
    "numeric_transformer = Pipeline(\n",
    "    steps = [\n",
    "        ('imputer',SimpleImputer(strategy='mean')),\n",
    "        ('scaler', StandardScaler())\n",
    "    ]\n",
    ")\n",
    "categorical_tranformer = Pipeline(\n",
    "    steps = [\n",
    "        ('imputer', SimpleImputer(strategy='most_frequent')),\n",
    "        ('onehot', OneHotEncoder(handle_unknown = 'ignore'))\n",
    "    ]\n",
    ")\n",
    "preprocessor = ColumnTransformer(\n",
    "    transformers=[\n",
    "        ('num', numeric_transformer, num_cols),\n",
    "        ('cat', categorical_tranformer, cat_cols)\n",
    "    ]\n",
    ")"
   ]
  },
  {
   "cell_type": "code",
   "execution_count": 90,
   "metadata": {},
   "outputs": [],
   "source": [
    "RF_pipe = Pipeline(steps=[('preprocessor', preprocessor),\n",
    "                      ('classifier', RandomForestClassifier())])"
   ]
  },
  {
   "cell_type": "code",
   "execution_count": 91,
   "metadata": {},
   "outputs": [
    {
     "data": {
      "text/html": [
       "<style>#sk-3afe46f1-29d9-4e10-9766-c81b8776a2ef {color: black;background-color: white;}#sk-3afe46f1-29d9-4e10-9766-c81b8776a2ef pre{padding: 0;}#sk-3afe46f1-29d9-4e10-9766-c81b8776a2ef div.sk-toggleable {background-color: white;}#sk-3afe46f1-29d9-4e10-9766-c81b8776a2ef label.sk-toggleable__label {cursor: pointer;display: block;width: 100%;margin-bottom: 0;padding: 0.2em 0.3em;box-sizing: border-box;text-align: center;}#sk-3afe46f1-29d9-4e10-9766-c81b8776a2ef div.sk-toggleable__content {max-height: 0;max-width: 0;overflow: hidden;text-align: left;background-color: #f0f8ff;}#sk-3afe46f1-29d9-4e10-9766-c81b8776a2ef div.sk-toggleable__content pre {margin: 0.2em;color: black;border-radius: 0.25em;background-color: #f0f8ff;}#sk-3afe46f1-29d9-4e10-9766-c81b8776a2ef input.sk-toggleable__control:checked~div.sk-toggleable__content {max-height: 200px;max-width: 100%;overflow: auto;}#sk-3afe46f1-29d9-4e10-9766-c81b8776a2ef div.sk-estimator input.sk-toggleable__control:checked~label.sk-toggleable__label {background-color: #d4ebff;}#sk-3afe46f1-29d9-4e10-9766-c81b8776a2ef div.sk-label input.sk-toggleable__control:checked~label.sk-toggleable__label {background-color: #d4ebff;}#sk-3afe46f1-29d9-4e10-9766-c81b8776a2ef input.sk-hidden--visually {border: 0;clip: rect(1px 1px 1px 1px);clip: rect(1px, 1px, 1px, 1px);height: 1px;margin: -1px;overflow: hidden;padding: 0;position: absolute;width: 1px;}#sk-3afe46f1-29d9-4e10-9766-c81b8776a2ef div.sk-estimator {font-family: monospace;background-color: #f0f8ff;margin: 0.25em 0.25em;border: 1px dotted black;border-radius: 0.25em;box-sizing: border-box;}#sk-3afe46f1-29d9-4e10-9766-c81b8776a2ef div.sk-estimator:hover {background-color: #d4ebff;}#sk-3afe46f1-29d9-4e10-9766-c81b8776a2ef div.sk-parallel-item::after {content: \"\";width: 100%;border-bottom: 1px solid gray;flex-grow: 1;}#sk-3afe46f1-29d9-4e10-9766-c81b8776a2ef div.sk-label:hover label.sk-toggleable__label {background-color: #d4ebff;}#sk-3afe46f1-29d9-4e10-9766-c81b8776a2ef div.sk-serial::before {content: \"\";position: absolute;border-left: 1px solid gray;box-sizing: border-box;top: 2em;bottom: 0;left: 50%;}#sk-3afe46f1-29d9-4e10-9766-c81b8776a2ef div.sk-serial {display: flex;flex-direction: column;align-items: center;background-color: white;}#sk-3afe46f1-29d9-4e10-9766-c81b8776a2ef div.sk-item {z-index: 1;}#sk-3afe46f1-29d9-4e10-9766-c81b8776a2ef div.sk-parallel {display: flex;align-items: stretch;justify-content: center;background-color: white;}#sk-3afe46f1-29d9-4e10-9766-c81b8776a2ef div.sk-parallel-item {display: flex;flex-direction: column;position: relative;background-color: white;}#sk-3afe46f1-29d9-4e10-9766-c81b8776a2ef div.sk-parallel-item:first-child::after {align-self: flex-end;width: 50%;}#sk-3afe46f1-29d9-4e10-9766-c81b8776a2ef div.sk-parallel-item:last-child::after {align-self: flex-start;width: 50%;}#sk-3afe46f1-29d9-4e10-9766-c81b8776a2ef div.sk-parallel-item:only-child::after {width: 0;}#sk-3afe46f1-29d9-4e10-9766-c81b8776a2ef div.sk-dashed-wrapped {border: 1px dashed gray;margin: 0.2em;box-sizing: border-box;padding-bottom: 0.1em;background-color: white;position: relative;}#sk-3afe46f1-29d9-4e10-9766-c81b8776a2ef div.sk-label label {font-family: monospace;font-weight: bold;background-color: white;display: inline-block;line-height: 1.2em;}#sk-3afe46f1-29d9-4e10-9766-c81b8776a2ef div.sk-label-container {position: relative;z-index: 2;text-align: center;}#sk-3afe46f1-29d9-4e10-9766-c81b8776a2ef div.sk-container {display: inline-block;position: relative;}</style><div id=\"sk-3afe46f1-29d9-4e10-9766-c81b8776a2ef\" class\"sk-top-container\"><div class=\"sk-container\"><div class=\"sk-item sk-dashed-wrapped\"><div class=\"sk-label-container\"><div class=\"sk-label sk-toggleable\"><input class=\"sk-toggleable__control sk-hidden--visually\" id=\"a345e0b3-1354-4694-90e7-57ca27c3a569\" type=\"checkbox\" ><label class=\"sk-toggleable__label\" for=\"a345e0b3-1354-4694-90e7-57ca27c3a569\">Pipeline</label><div class=\"sk-toggleable__content\"><pre>Pipeline(steps=[('preprocessor',\n",
       "                 ColumnTransformer(transformers=[('num',\n",
       "                                                  Pipeline(steps=[('imputer',\n",
       "                                                                   SimpleImputer()),\n",
       "                                                                  ('scaler',\n",
       "                                                                   StandardScaler())]),\n",
       "                                                  Index(['rally', 'serve', 'speed', 'net.clearance', 'distance.from.sideline',\n",
       "       'depth', 'player.distance.travelled', 'player.impact.depth',\n",
       "       'player.impact.distance.from.center', 'player.depth',\n",
       "       'player.distance.from.c...\n",
       "       'previous.time.to.net'],\n",
       "      dtype='object')),\n",
       "                                                 ('cat',\n",
       "                                                  Pipeline(steps=[('imputer',\n",
       "                                                                   SimpleImputer(strategy='most_frequent')),\n",
       "                                                                  ('onehot',\n",
       "                                                                   OneHotEncoder(handle_unknown='ignore'))]),\n",
       "                                                  Index(['hitpoint', 'outside.sideline', 'outside.baseline', 'same.side',\n",
       "       'previous.hitpoint', 'server.is.impact.player', 'gender'],\n",
       "      dtype='object'))])),\n",
       "                ('classifier', RandomForestClassifier())])</pre></div></div></div><div class=\"sk-serial\"><div class=\"sk-item sk-dashed-wrapped\"><div class=\"sk-label-container\"><div class=\"sk-label sk-toggleable\"><input class=\"sk-toggleable__control sk-hidden--visually\" id=\"b433d743-6eca-47a7-af21-684d80daa8bc\" type=\"checkbox\" ><label class=\"sk-toggleable__label\" for=\"b433d743-6eca-47a7-af21-684d80daa8bc\">preprocessor: ColumnTransformer</label><div class=\"sk-toggleable__content\"><pre>ColumnTransformer(transformers=[('num',\n",
       "                                 Pipeline(steps=[('imputer', SimpleImputer()),\n",
       "                                                 ('scaler', StandardScaler())]),\n",
       "                                 Index(['rally', 'serve', 'speed', 'net.clearance', 'distance.from.sideline',\n",
       "       'depth', 'player.distance.travelled', 'player.impact.depth',\n",
       "       'player.impact.distance.from.center', 'player.depth',\n",
       "       'player.distance.from.center', 'previous.speed',\n",
       "       'previou...\n",
       "       'previous.depth', 'opponent.depth', 'opponent.distance.from.center',\n",
       "       'previous.time.to.net'],\n",
       "      dtype='object')),\n",
       "                                ('cat',\n",
       "                                 Pipeline(steps=[('imputer',\n",
       "                                                  SimpleImputer(strategy='most_frequent')),\n",
       "                                                 ('onehot',\n",
       "                                                  OneHotEncoder(handle_unknown='ignore'))]),\n",
       "                                 Index(['hitpoint', 'outside.sideline', 'outside.baseline', 'same.side',\n",
       "       'previous.hitpoint', 'server.is.impact.player', 'gender'],\n",
       "      dtype='object'))])</pre></div></div></div><div class=\"sk-parallel\"><div class=\"sk-parallel-item\"><div class=\"sk-item\"><div class=\"sk-label-container\"><div class=\"sk-label sk-toggleable\"><input class=\"sk-toggleable__control sk-hidden--visually\" id=\"ff366e92-42b0-47c5-9fc8-b92060e4c970\" type=\"checkbox\" ><label class=\"sk-toggleable__label\" for=\"ff366e92-42b0-47c5-9fc8-b92060e4c970\">num</label><div class=\"sk-toggleable__content\"><pre>Index(['rally', 'serve', 'speed', 'net.clearance', 'distance.from.sideline',\n",
       "       'depth', 'player.distance.travelled', 'player.impact.depth',\n",
       "       'player.impact.distance.from.center', 'player.depth',\n",
       "       'player.distance.from.center', 'previous.speed',\n",
       "       'previous.net.clearance', 'previous.distance.from.sideline',\n",
       "       'previous.depth', 'opponent.depth', 'opponent.distance.from.center',\n",
       "       'previous.time.to.net'],\n",
       "      dtype='object')</pre></div></div></div><div class=\"sk-serial\"><div class=\"sk-item\"><div class=\"sk-serial\"><div class=\"sk-item\"><div class=\"sk-estimator sk-toggleable\"><input class=\"sk-toggleable__control sk-hidden--visually\" id=\"6f5eb730-0fd3-4a4c-b5fc-c7c1feb053ec\" type=\"checkbox\" ><label class=\"sk-toggleable__label\" for=\"6f5eb730-0fd3-4a4c-b5fc-c7c1feb053ec\">SimpleImputer</label><div class=\"sk-toggleable__content\"><pre>SimpleImputer()</pre></div></div></div><div class=\"sk-item\"><div class=\"sk-estimator sk-toggleable\"><input class=\"sk-toggleable__control sk-hidden--visually\" id=\"16c748c5-86dd-4bf8-a293-269a549e994f\" type=\"checkbox\" ><label class=\"sk-toggleable__label\" for=\"16c748c5-86dd-4bf8-a293-269a549e994f\">StandardScaler</label><div class=\"sk-toggleable__content\"><pre>StandardScaler()</pre></div></div></div></div></div></div></div></div><div class=\"sk-parallel-item\"><div class=\"sk-item\"><div class=\"sk-label-container\"><div class=\"sk-label sk-toggleable\"><input class=\"sk-toggleable__control sk-hidden--visually\" id=\"e1d0d9c8-3fcc-4b76-a905-4bafc41d2aaf\" type=\"checkbox\" ><label class=\"sk-toggleable__label\" for=\"e1d0d9c8-3fcc-4b76-a905-4bafc41d2aaf\">cat</label><div class=\"sk-toggleable__content\"><pre>Index(['hitpoint', 'outside.sideline', 'outside.baseline', 'same.side',\n",
       "       'previous.hitpoint', 'server.is.impact.player', 'gender'],\n",
       "      dtype='object')</pre></div></div></div><div class=\"sk-serial\"><div class=\"sk-item\"><div class=\"sk-serial\"><div class=\"sk-item\"><div class=\"sk-estimator sk-toggleable\"><input class=\"sk-toggleable__control sk-hidden--visually\" id=\"2b52d378-b0a9-4606-8587-dac381d52122\" type=\"checkbox\" ><label class=\"sk-toggleable__label\" for=\"2b52d378-b0a9-4606-8587-dac381d52122\">SimpleImputer</label><div class=\"sk-toggleable__content\"><pre>SimpleImputer(strategy='most_frequent')</pre></div></div></div><div class=\"sk-item\"><div class=\"sk-estimator sk-toggleable\"><input class=\"sk-toggleable__control sk-hidden--visually\" id=\"e4470c46-02f8-4f21-bc34-650ea133ae2b\" type=\"checkbox\" ><label class=\"sk-toggleable__label\" for=\"e4470c46-02f8-4f21-bc34-650ea133ae2b\">OneHotEncoder</label><div class=\"sk-toggleable__content\"><pre>OneHotEncoder(handle_unknown='ignore')</pre></div></div></div></div></div></div></div></div></div></div><div class=\"sk-item\"><div class=\"sk-estimator sk-toggleable\"><input class=\"sk-toggleable__control sk-hidden--visually\" id=\"bfd0a376-d09b-4089-b002-acdf519e5bfb\" type=\"checkbox\" ><label class=\"sk-toggleable__label\" for=\"bfd0a376-d09b-4089-b002-acdf519e5bfb\">RandomForestClassifier</label><div class=\"sk-toggleable__content\"><pre>RandomForestClassifier()</pre></div></div></div></div></div></div></div>"
      ],
      "text/plain": [
       "Pipeline(steps=[('preprocessor',\n",
       "                 ColumnTransformer(transformers=[('num',\n",
       "                                                  Pipeline(steps=[('imputer',\n",
       "                                                                   SimpleImputer()),\n",
       "                                                                  ('scaler',\n",
       "                                                                   StandardScaler())]),\n",
       "                                                  Index(['rally', 'serve', 'speed', 'net.clearance', 'distance.from.sideline',\n",
       "       'depth', 'player.distance.travelled', 'player.impact.depth',\n",
       "       'player.impact.distance.from.center', 'player.depth',\n",
       "       'player.distance.from.c...\n",
       "       'previous.time.to.net'],\n",
       "      dtype='object')),\n",
       "                                                 ('cat',\n",
       "                                                  Pipeline(steps=[('imputer',\n",
       "                                                                   SimpleImputer(strategy='most_frequent')),\n",
       "                                                                  ('onehot',\n",
       "                                                                   OneHotEncoder(handle_unknown='ignore'))]),\n",
       "                                                  Index(['hitpoint', 'outside.sideline', 'outside.baseline', 'same.side',\n",
       "       'previous.hitpoint', 'server.is.impact.player', 'gender'],\n",
       "      dtype='object'))])),\n",
       "                ('classifier', RandomForestClassifier())])"
      ]
     },
     "execution_count": 91,
     "metadata": {},
     "output_type": "execute_result"
    }
   ],
   "source": [
    "RF_pipe.fit(X_train,y_train)"
   ]
  },
  {
   "cell_type": "code",
   "execution_count": 92,
   "metadata": {},
   "outputs": [],
   "source": [
    "from sklearn import set_config\n",
    "set_config(display='diagram')"
   ]
  },
  {
   "cell_type": "code",
   "execution_count": 93,
   "metadata": {},
   "outputs": [
    {
     "data": {
      "text/plain": [
       "array([1, 2, 0, ..., 1, 1, 0])"
      ]
     },
     "execution_count": 93,
     "metadata": {},
     "output_type": "execute_result"
    }
   ],
   "source": [
    "train_pred_RFPipe = RF_pipe.predict(X_train)\n",
    "train_pred_RFPipe"
   ]
  },
  {
   "cell_type": "code",
   "execution_count": 94,
   "metadata": {},
   "outputs": [
    {
     "data": {
      "text/plain": [
       "array([1, 2, 2, ..., 2, 1, 1])"
      ]
     },
     "execution_count": 94,
     "metadata": {},
     "output_type": "execute_result"
    }
   ],
   "source": [
    "test_pred_RFPipe = RF_pipe.predict(X_test)\n",
    "test_pred_RFPipe"
   ]
  },
  {
   "cell_type": "code",
   "execution_count": 95,
   "metadata": {},
   "outputs": [],
   "source": [
    "def evaluate_model(act, pred):\n",
    "    from sklearn.metrics import confusion_matrix, accuracy_score, recall_score, precision_score\n",
    "    print(\"Confusion Matrix \\n\", confusion_matrix(act, pred,))\n",
    "    print(\"Accurcay : \", accuracy_score(act, pred))\n",
    "    print(\"Recall   : \", recall_score(act, pred,average=\"weighted\"))\n",
    "    print(\"Precision: \", precision_score(act, pred,average=\"weighted\"))    "
   ]
  },
  {
   "cell_type": "code",
   "execution_count": 96,
   "metadata": {},
   "outputs": [
    {
     "name": "stdout",
     "output_type": "stream",
     "text": [
      "--Train--\n",
      "Confusion Matrix \n",
      " [[1273    0    0]\n",
      " [   0 2450    0]\n",
      " [   0    0 1877]]\n",
      "Accurcay :  1.0\n",
      "Recall   :  1.0\n",
      "Precision:  1.0\n",
      "--Test--\n",
      "Confusion Matrix \n",
      " [[384 136  25]\n",
      " [ 88 916  47]\n",
      " [ 20  24 761]]\n",
      "Accurcay :  0.8583923365264473\n",
      "Recall   :  0.8583923365264473\n",
      "Precision:  0.8561030794855155\n"
     ]
    }
   ],
   "source": [
    "print(\"--Train--\")\n",
    "evaluate_model(y_train, train_pred_RFPipe)\n",
    "print(\"--Test--\")\n",
    "evaluate_model(y_test, test_pred_RFPipe)"
   ]
  },
  {
   "cell_type": "code",
   "execution_count": 97,
   "metadata": {},
   "outputs": [],
   "source": [
    "Adaboost_pipe = Pipeline(steps=[('preprocessor', preprocessor),\n",
    "                      ('classifier', AdaBoostClassifier())])"
   ]
  },
  {
   "cell_type": "code",
   "execution_count": 98,
   "metadata": {},
   "outputs": [
    {
     "data": {
      "text/html": [
       "<style>#sk-6204f8e2-d10b-49b8-93d1-6eb5fa327e58 {color: black;background-color: white;}#sk-6204f8e2-d10b-49b8-93d1-6eb5fa327e58 pre{padding: 0;}#sk-6204f8e2-d10b-49b8-93d1-6eb5fa327e58 div.sk-toggleable {background-color: white;}#sk-6204f8e2-d10b-49b8-93d1-6eb5fa327e58 label.sk-toggleable__label {cursor: pointer;display: block;width: 100%;margin-bottom: 0;padding: 0.2em 0.3em;box-sizing: border-box;text-align: center;}#sk-6204f8e2-d10b-49b8-93d1-6eb5fa327e58 div.sk-toggleable__content {max-height: 0;max-width: 0;overflow: hidden;text-align: left;background-color: #f0f8ff;}#sk-6204f8e2-d10b-49b8-93d1-6eb5fa327e58 div.sk-toggleable__content pre {margin: 0.2em;color: black;border-radius: 0.25em;background-color: #f0f8ff;}#sk-6204f8e2-d10b-49b8-93d1-6eb5fa327e58 input.sk-toggleable__control:checked~div.sk-toggleable__content {max-height: 200px;max-width: 100%;overflow: auto;}#sk-6204f8e2-d10b-49b8-93d1-6eb5fa327e58 div.sk-estimator input.sk-toggleable__control:checked~label.sk-toggleable__label {background-color: #d4ebff;}#sk-6204f8e2-d10b-49b8-93d1-6eb5fa327e58 div.sk-label input.sk-toggleable__control:checked~label.sk-toggleable__label {background-color: #d4ebff;}#sk-6204f8e2-d10b-49b8-93d1-6eb5fa327e58 input.sk-hidden--visually {border: 0;clip: rect(1px 1px 1px 1px);clip: rect(1px, 1px, 1px, 1px);height: 1px;margin: -1px;overflow: hidden;padding: 0;position: absolute;width: 1px;}#sk-6204f8e2-d10b-49b8-93d1-6eb5fa327e58 div.sk-estimator {font-family: monospace;background-color: #f0f8ff;margin: 0.25em 0.25em;border: 1px dotted black;border-radius: 0.25em;box-sizing: border-box;}#sk-6204f8e2-d10b-49b8-93d1-6eb5fa327e58 div.sk-estimator:hover {background-color: #d4ebff;}#sk-6204f8e2-d10b-49b8-93d1-6eb5fa327e58 div.sk-parallel-item::after {content: \"\";width: 100%;border-bottom: 1px solid gray;flex-grow: 1;}#sk-6204f8e2-d10b-49b8-93d1-6eb5fa327e58 div.sk-label:hover label.sk-toggleable__label {background-color: #d4ebff;}#sk-6204f8e2-d10b-49b8-93d1-6eb5fa327e58 div.sk-serial::before {content: \"\";position: absolute;border-left: 1px solid gray;box-sizing: border-box;top: 2em;bottom: 0;left: 50%;}#sk-6204f8e2-d10b-49b8-93d1-6eb5fa327e58 div.sk-serial {display: flex;flex-direction: column;align-items: center;background-color: white;}#sk-6204f8e2-d10b-49b8-93d1-6eb5fa327e58 div.sk-item {z-index: 1;}#sk-6204f8e2-d10b-49b8-93d1-6eb5fa327e58 div.sk-parallel {display: flex;align-items: stretch;justify-content: center;background-color: white;}#sk-6204f8e2-d10b-49b8-93d1-6eb5fa327e58 div.sk-parallel-item {display: flex;flex-direction: column;position: relative;background-color: white;}#sk-6204f8e2-d10b-49b8-93d1-6eb5fa327e58 div.sk-parallel-item:first-child::after {align-self: flex-end;width: 50%;}#sk-6204f8e2-d10b-49b8-93d1-6eb5fa327e58 div.sk-parallel-item:last-child::after {align-self: flex-start;width: 50%;}#sk-6204f8e2-d10b-49b8-93d1-6eb5fa327e58 div.sk-parallel-item:only-child::after {width: 0;}#sk-6204f8e2-d10b-49b8-93d1-6eb5fa327e58 div.sk-dashed-wrapped {border: 1px dashed gray;margin: 0.2em;box-sizing: border-box;padding-bottom: 0.1em;background-color: white;position: relative;}#sk-6204f8e2-d10b-49b8-93d1-6eb5fa327e58 div.sk-label label {font-family: monospace;font-weight: bold;background-color: white;display: inline-block;line-height: 1.2em;}#sk-6204f8e2-d10b-49b8-93d1-6eb5fa327e58 div.sk-label-container {position: relative;z-index: 2;text-align: center;}#sk-6204f8e2-d10b-49b8-93d1-6eb5fa327e58 div.sk-container {display: inline-block;position: relative;}</style><div id=\"sk-6204f8e2-d10b-49b8-93d1-6eb5fa327e58\" class\"sk-top-container\"><div class=\"sk-container\"><div class=\"sk-item sk-dashed-wrapped\"><div class=\"sk-label-container\"><div class=\"sk-label sk-toggleable\"><input class=\"sk-toggleable__control sk-hidden--visually\" id=\"d0f5a3f3-3186-4089-8a6f-d04bf881a988\" type=\"checkbox\" ><label class=\"sk-toggleable__label\" for=\"d0f5a3f3-3186-4089-8a6f-d04bf881a988\">Pipeline</label><div class=\"sk-toggleable__content\"><pre>Pipeline(steps=[('preprocessor',\n",
       "                 ColumnTransformer(transformers=[('num',\n",
       "                                                  Pipeline(steps=[('imputer',\n",
       "                                                                   SimpleImputer()),\n",
       "                                                                  ('scaler',\n",
       "                                                                   StandardScaler())]),\n",
       "                                                  Index(['rally', 'serve', 'speed', 'net.clearance', 'distance.from.sideline',\n",
       "       'depth', 'player.distance.travelled', 'player.impact.depth',\n",
       "       'player.impact.distance.from.center', 'player.depth',\n",
       "       'player.distance.from.c...\n",
       "       'previous.depth', 'opponent.depth', 'opponent.distance.from.center',\n",
       "       'previous.time.to.net'],\n",
       "      dtype='object')),\n",
       "                                                 ('cat',\n",
       "                                                  Pipeline(steps=[('imputer',\n",
       "                                                                   SimpleImputer(strategy='most_frequent')),\n",
       "                                                                  ('onehot',\n",
       "                                                                   OneHotEncoder(handle_unknown='ignore'))]),\n",
       "                                                  Index(['hitpoint', 'outside.sideline', 'outside.baseline', 'same.side',\n",
       "       'previous.hitpoint', 'server.is.impact.player', 'gender'],\n",
       "      dtype='object'))])),\n",
       "                ('classifier', AdaBoostClassifier())])</pre></div></div></div><div class=\"sk-serial\"><div class=\"sk-item sk-dashed-wrapped\"><div class=\"sk-label-container\"><div class=\"sk-label sk-toggleable\"><input class=\"sk-toggleable__control sk-hidden--visually\" id=\"1ef6120f-4d7d-4a6d-997f-7041a9db00e4\" type=\"checkbox\" ><label class=\"sk-toggleable__label\" for=\"1ef6120f-4d7d-4a6d-997f-7041a9db00e4\">preprocessor: ColumnTransformer</label><div class=\"sk-toggleable__content\"><pre>ColumnTransformer(transformers=[('num',\n",
       "                                 Pipeline(steps=[('imputer', SimpleImputer()),\n",
       "                                                 ('scaler', StandardScaler())]),\n",
       "                                 Index(['rally', 'serve', 'speed', 'net.clearance', 'distance.from.sideline',\n",
       "       'depth', 'player.distance.travelled', 'player.impact.depth',\n",
       "       'player.impact.distance.from.center', 'player.depth',\n",
       "       'player.distance.from.center', 'previous.speed',\n",
       "       'previou...\n",
       "       'previous.depth', 'opponent.depth', 'opponent.distance.from.center',\n",
       "       'previous.time.to.net'],\n",
       "      dtype='object')),\n",
       "                                ('cat',\n",
       "                                 Pipeline(steps=[('imputer',\n",
       "                                                  SimpleImputer(strategy='most_frequent')),\n",
       "                                                 ('onehot',\n",
       "                                                  OneHotEncoder(handle_unknown='ignore'))]),\n",
       "                                 Index(['hitpoint', 'outside.sideline', 'outside.baseline', 'same.side',\n",
       "       'previous.hitpoint', 'server.is.impact.player', 'gender'],\n",
       "      dtype='object'))])</pre></div></div></div><div class=\"sk-parallel\"><div class=\"sk-parallel-item\"><div class=\"sk-item\"><div class=\"sk-label-container\"><div class=\"sk-label sk-toggleable\"><input class=\"sk-toggleable__control sk-hidden--visually\" id=\"47148b7a-a5c9-4c30-b340-c763e943aada\" type=\"checkbox\" ><label class=\"sk-toggleable__label\" for=\"47148b7a-a5c9-4c30-b340-c763e943aada\">num</label><div class=\"sk-toggleable__content\"><pre>Index(['rally', 'serve', 'speed', 'net.clearance', 'distance.from.sideline',\n",
       "       'depth', 'player.distance.travelled', 'player.impact.depth',\n",
       "       'player.impact.distance.from.center', 'player.depth',\n",
       "       'player.distance.from.center', 'previous.speed',\n",
       "       'previous.net.clearance', 'previous.distance.from.sideline',\n",
       "       'previous.depth', 'opponent.depth', 'opponent.distance.from.center',\n",
       "       'previous.time.to.net'],\n",
       "      dtype='object')</pre></div></div></div><div class=\"sk-serial\"><div class=\"sk-item\"><div class=\"sk-serial\"><div class=\"sk-item\"><div class=\"sk-estimator sk-toggleable\"><input class=\"sk-toggleable__control sk-hidden--visually\" id=\"1af5e1db-521a-4633-af80-d16dfd61af5c\" type=\"checkbox\" ><label class=\"sk-toggleable__label\" for=\"1af5e1db-521a-4633-af80-d16dfd61af5c\">SimpleImputer</label><div class=\"sk-toggleable__content\"><pre>SimpleImputer()</pre></div></div></div><div class=\"sk-item\"><div class=\"sk-estimator sk-toggleable\"><input class=\"sk-toggleable__control sk-hidden--visually\" id=\"36f2bed8-7202-4723-9c00-ad608c2de327\" type=\"checkbox\" ><label class=\"sk-toggleable__label\" for=\"36f2bed8-7202-4723-9c00-ad608c2de327\">StandardScaler</label><div class=\"sk-toggleable__content\"><pre>StandardScaler()</pre></div></div></div></div></div></div></div></div><div class=\"sk-parallel-item\"><div class=\"sk-item\"><div class=\"sk-label-container\"><div class=\"sk-label sk-toggleable\"><input class=\"sk-toggleable__control sk-hidden--visually\" id=\"e0df65c5-76de-4540-90fc-be590e954a27\" type=\"checkbox\" ><label class=\"sk-toggleable__label\" for=\"e0df65c5-76de-4540-90fc-be590e954a27\">cat</label><div class=\"sk-toggleable__content\"><pre>Index(['hitpoint', 'outside.sideline', 'outside.baseline', 'same.side',\n",
       "       'previous.hitpoint', 'server.is.impact.player', 'gender'],\n",
       "      dtype='object')</pre></div></div></div><div class=\"sk-serial\"><div class=\"sk-item\"><div class=\"sk-serial\"><div class=\"sk-item\"><div class=\"sk-estimator sk-toggleable\"><input class=\"sk-toggleable__control sk-hidden--visually\" id=\"dedf9f9b-c983-4dd0-ab22-e7712c810c50\" type=\"checkbox\" ><label class=\"sk-toggleable__label\" for=\"dedf9f9b-c983-4dd0-ab22-e7712c810c50\">SimpleImputer</label><div class=\"sk-toggleable__content\"><pre>SimpleImputer(strategy='most_frequent')</pre></div></div></div><div class=\"sk-item\"><div class=\"sk-estimator sk-toggleable\"><input class=\"sk-toggleable__control sk-hidden--visually\" id=\"fab49536-d09e-4d5f-8937-b4eb179d5e00\" type=\"checkbox\" ><label class=\"sk-toggleable__label\" for=\"fab49536-d09e-4d5f-8937-b4eb179d5e00\">OneHotEncoder</label><div class=\"sk-toggleable__content\"><pre>OneHotEncoder(handle_unknown='ignore')</pre></div></div></div></div></div></div></div></div></div></div><div class=\"sk-item\"><div class=\"sk-estimator sk-toggleable\"><input class=\"sk-toggleable__control sk-hidden--visually\" id=\"6edbb65e-7dcf-41ec-aab0-6829cdfd802d\" type=\"checkbox\" ><label class=\"sk-toggleable__label\" for=\"6edbb65e-7dcf-41ec-aab0-6829cdfd802d\">AdaBoostClassifier</label><div class=\"sk-toggleable__content\"><pre>AdaBoostClassifier()</pre></div></div></div></div></div></div></div>"
      ],
      "text/plain": [
       "Pipeline(steps=[('preprocessor',\n",
       "                 ColumnTransformer(transformers=[('num',\n",
       "                                                  Pipeline(steps=[('imputer',\n",
       "                                                                   SimpleImputer()),\n",
       "                                                                  ('scaler',\n",
       "                                                                   StandardScaler())]),\n",
       "                                                  Index(['rally', 'serve', 'speed', 'net.clearance', 'distance.from.sideline',\n",
       "       'depth', 'player.distance.travelled', 'player.impact.depth',\n",
       "       'player.impact.distance.from.center', 'player.depth',\n",
       "       'player.distance.from.c...\n",
       "       'previous.depth', 'opponent.depth', 'opponent.distance.from.center',\n",
       "       'previous.time.to.net'],\n",
       "      dtype='object')),\n",
       "                                                 ('cat',\n",
       "                                                  Pipeline(steps=[('imputer',\n",
       "                                                                   SimpleImputer(strategy='most_frequent')),\n",
       "                                                                  ('onehot',\n",
       "                                                                   OneHotEncoder(handle_unknown='ignore'))]),\n",
       "                                                  Index(['hitpoint', 'outside.sideline', 'outside.baseline', 'same.side',\n",
       "       'previous.hitpoint', 'server.is.impact.player', 'gender'],\n",
       "      dtype='object'))])),\n",
       "                ('classifier', AdaBoostClassifier())])"
      ]
     },
     "execution_count": 98,
     "metadata": {},
     "output_type": "execute_result"
    }
   ],
   "source": [
    "Adaboost_pipe.fit(X_train,y_train)"
   ]
  },
  {
   "cell_type": "code",
   "execution_count": 99,
   "metadata": {},
   "outputs": [],
   "source": [
    "train_pred_adapipe = Adaboost_pipe.predict(X_train)\n",
    "test_pred_adapipe = Adaboost_pipe.predict(X_test)"
   ]
  },
  {
   "cell_type": "code",
   "execution_count": 100,
   "metadata": {},
   "outputs": [
    {
     "name": "stdout",
     "output_type": "stream",
     "text": [
      "--Train--\n",
      "Confusion Matrix \n",
      " [[ 863  364   46]\n",
      " [ 239 2123   88]\n",
      " [  54   51 1772]]\n",
      "Accurcay :  0.8496428571428571\n",
      "Recall   :  0.8496428571428571\n",
      "Precision:  0.8472809398880656\n",
      "--Test--\n",
      "Confusion Matrix \n",
      " [[359 158  28]\n",
      " [111 895  45]\n",
      " [ 31  20 754]]\n",
      "Accurcay :  0.8363182007496877\n",
      "Recall   :  0.8363182007496877\n",
      "Precision:  0.8334529286207462\n"
     ]
    }
   ],
   "source": [
    "print(\"--Train--\")\n",
    "evaluate_model(y_train, train_pred_adapipe)\n",
    "print(\"--Test--\")\n",
    "evaluate_model(y_test, test_pred_adapipe)"
   ]
  },
  {
   "cell_type": "code",
   "execution_count": 101,
   "metadata": {},
   "outputs": [],
   "source": [
    "gradeboost_pipe = Pipeline(steps=[('preprocessor', preprocessor),\n",
    "                      ('classifier',GradientBoostingClassifier())])"
   ]
  },
  {
   "cell_type": "code",
   "execution_count": 102,
   "metadata": {},
   "outputs": [
    {
     "data": {
      "text/html": [
       "<style>#sk-0f4d1b33-eb32-4475-adf1-3ff62b105780 {color: black;background-color: white;}#sk-0f4d1b33-eb32-4475-adf1-3ff62b105780 pre{padding: 0;}#sk-0f4d1b33-eb32-4475-adf1-3ff62b105780 div.sk-toggleable {background-color: white;}#sk-0f4d1b33-eb32-4475-adf1-3ff62b105780 label.sk-toggleable__label {cursor: pointer;display: block;width: 100%;margin-bottom: 0;padding: 0.2em 0.3em;box-sizing: border-box;text-align: center;}#sk-0f4d1b33-eb32-4475-adf1-3ff62b105780 div.sk-toggleable__content {max-height: 0;max-width: 0;overflow: hidden;text-align: left;background-color: #f0f8ff;}#sk-0f4d1b33-eb32-4475-adf1-3ff62b105780 div.sk-toggleable__content pre {margin: 0.2em;color: black;border-radius: 0.25em;background-color: #f0f8ff;}#sk-0f4d1b33-eb32-4475-adf1-3ff62b105780 input.sk-toggleable__control:checked~div.sk-toggleable__content {max-height: 200px;max-width: 100%;overflow: auto;}#sk-0f4d1b33-eb32-4475-adf1-3ff62b105780 div.sk-estimator input.sk-toggleable__control:checked~label.sk-toggleable__label {background-color: #d4ebff;}#sk-0f4d1b33-eb32-4475-adf1-3ff62b105780 div.sk-label input.sk-toggleable__control:checked~label.sk-toggleable__label {background-color: #d4ebff;}#sk-0f4d1b33-eb32-4475-adf1-3ff62b105780 input.sk-hidden--visually {border: 0;clip: rect(1px 1px 1px 1px);clip: rect(1px, 1px, 1px, 1px);height: 1px;margin: -1px;overflow: hidden;padding: 0;position: absolute;width: 1px;}#sk-0f4d1b33-eb32-4475-adf1-3ff62b105780 div.sk-estimator {font-family: monospace;background-color: #f0f8ff;margin: 0.25em 0.25em;border: 1px dotted black;border-radius: 0.25em;box-sizing: border-box;}#sk-0f4d1b33-eb32-4475-adf1-3ff62b105780 div.sk-estimator:hover {background-color: #d4ebff;}#sk-0f4d1b33-eb32-4475-adf1-3ff62b105780 div.sk-parallel-item::after {content: \"\";width: 100%;border-bottom: 1px solid gray;flex-grow: 1;}#sk-0f4d1b33-eb32-4475-adf1-3ff62b105780 div.sk-label:hover label.sk-toggleable__label {background-color: #d4ebff;}#sk-0f4d1b33-eb32-4475-adf1-3ff62b105780 div.sk-serial::before {content: \"\";position: absolute;border-left: 1px solid gray;box-sizing: border-box;top: 2em;bottom: 0;left: 50%;}#sk-0f4d1b33-eb32-4475-adf1-3ff62b105780 div.sk-serial {display: flex;flex-direction: column;align-items: center;background-color: white;}#sk-0f4d1b33-eb32-4475-adf1-3ff62b105780 div.sk-item {z-index: 1;}#sk-0f4d1b33-eb32-4475-adf1-3ff62b105780 div.sk-parallel {display: flex;align-items: stretch;justify-content: center;background-color: white;}#sk-0f4d1b33-eb32-4475-adf1-3ff62b105780 div.sk-parallel-item {display: flex;flex-direction: column;position: relative;background-color: white;}#sk-0f4d1b33-eb32-4475-adf1-3ff62b105780 div.sk-parallel-item:first-child::after {align-self: flex-end;width: 50%;}#sk-0f4d1b33-eb32-4475-adf1-3ff62b105780 div.sk-parallel-item:last-child::after {align-self: flex-start;width: 50%;}#sk-0f4d1b33-eb32-4475-adf1-3ff62b105780 div.sk-parallel-item:only-child::after {width: 0;}#sk-0f4d1b33-eb32-4475-adf1-3ff62b105780 div.sk-dashed-wrapped {border: 1px dashed gray;margin: 0.2em;box-sizing: border-box;padding-bottom: 0.1em;background-color: white;position: relative;}#sk-0f4d1b33-eb32-4475-adf1-3ff62b105780 div.sk-label label {font-family: monospace;font-weight: bold;background-color: white;display: inline-block;line-height: 1.2em;}#sk-0f4d1b33-eb32-4475-adf1-3ff62b105780 div.sk-label-container {position: relative;z-index: 2;text-align: center;}#sk-0f4d1b33-eb32-4475-adf1-3ff62b105780 div.sk-container {display: inline-block;position: relative;}</style><div id=\"sk-0f4d1b33-eb32-4475-adf1-3ff62b105780\" class\"sk-top-container\"><div class=\"sk-container\"><div class=\"sk-item sk-dashed-wrapped\"><div class=\"sk-label-container\"><div class=\"sk-label sk-toggleable\"><input class=\"sk-toggleable__control sk-hidden--visually\" id=\"d039bc97-89fa-4d54-b2ea-cb08336f9795\" type=\"checkbox\" ><label class=\"sk-toggleable__label\" for=\"d039bc97-89fa-4d54-b2ea-cb08336f9795\">Pipeline</label><div class=\"sk-toggleable__content\"><pre>Pipeline(steps=[('preprocessor',\n",
       "                 ColumnTransformer(transformers=[('num',\n",
       "                                                  Pipeline(steps=[('imputer',\n",
       "                                                                   SimpleImputer()),\n",
       "                                                                  ('scaler',\n",
       "                                                                   StandardScaler())]),\n",
       "                                                  Index(['rally', 'serve', 'speed', 'net.clearance', 'distance.from.sideline',\n",
       "       'depth', 'player.distance.travelled', 'player.impact.depth',\n",
       "       'player.impact.distance.from.center', 'player.depth',\n",
       "       'player.distance.from.c...\n",
       "       'previous.time.to.net'],\n",
       "      dtype='object')),\n",
       "                                                 ('cat',\n",
       "                                                  Pipeline(steps=[('imputer',\n",
       "                                                                   SimpleImputer(strategy='most_frequent')),\n",
       "                                                                  ('onehot',\n",
       "                                                                   OneHotEncoder(handle_unknown='ignore'))]),\n",
       "                                                  Index(['hitpoint', 'outside.sideline', 'outside.baseline', 'same.side',\n",
       "       'previous.hitpoint', 'server.is.impact.player', 'gender'],\n",
       "      dtype='object'))])),\n",
       "                ('classifier', GradientBoostingClassifier())])</pre></div></div></div><div class=\"sk-serial\"><div class=\"sk-item sk-dashed-wrapped\"><div class=\"sk-label-container\"><div class=\"sk-label sk-toggleable\"><input class=\"sk-toggleable__control sk-hidden--visually\" id=\"deff27d2-05a0-4e09-8772-de17b6d6142b\" type=\"checkbox\" ><label class=\"sk-toggleable__label\" for=\"deff27d2-05a0-4e09-8772-de17b6d6142b\">preprocessor: ColumnTransformer</label><div class=\"sk-toggleable__content\"><pre>ColumnTransformer(transformers=[('num',\n",
       "                                 Pipeline(steps=[('imputer', SimpleImputer()),\n",
       "                                                 ('scaler', StandardScaler())]),\n",
       "                                 Index(['rally', 'serve', 'speed', 'net.clearance', 'distance.from.sideline',\n",
       "       'depth', 'player.distance.travelled', 'player.impact.depth',\n",
       "       'player.impact.distance.from.center', 'player.depth',\n",
       "       'player.distance.from.center', 'previous.speed',\n",
       "       'previou...\n",
       "       'previous.depth', 'opponent.depth', 'opponent.distance.from.center',\n",
       "       'previous.time.to.net'],\n",
       "      dtype='object')),\n",
       "                                ('cat',\n",
       "                                 Pipeline(steps=[('imputer',\n",
       "                                                  SimpleImputer(strategy='most_frequent')),\n",
       "                                                 ('onehot',\n",
       "                                                  OneHotEncoder(handle_unknown='ignore'))]),\n",
       "                                 Index(['hitpoint', 'outside.sideline', 'outside.baseline', 'same.side',\n",
       "       'previous.hitpoint', 'server.is.impact.player', 'gender'],\n",
       "      dtype='object'))])</pre></div></div></div><div class=\"sk-parallel\"><div class=\"sk-parallel-item\"><div class=\"sk-item\"><div class=\"sk-label-container\"><div class=\"sk-label sk-toggleable\"><input class=\"sk-toggleable__control sk-hidden--visually\" id=\"f2657e5c-46a6-4a4c-b833-bf363a51b187\" type=\"checkbox\" ><label class=\"sk-toggleable__label\" for=\"f2657e5c-46a6-4a4c-b833-bf363a51b187\">num</label><div class=\"sk-toggleable__content\"><pre>Index(['rally', 'serve', 'speed', 'net.clearance', 'distance.from.sideline',\n",
       "       'depth', 'player.distance.travelled', 'player.impact.depth',\n",
       "       'player.impact.distance.from.center', 'player.depth',\n",
       "       'player.distance.from.center', 'previous.speed',\n",
       "       'previous.net.clearance', 'previous.distance.from.sideline',\n",
       "       'previous.depth', 'opponent.depth', 'opponent.distance.from.center',\n",
       "       'previous.time.to.net'],\n",
       "      dtype='object')</pre></div></div></div><div class=\"sk-serial\"><div class=\"sk-item\"><div class=\"sk-serial\"><div class=\"sk-item\"><div class=\"sk-estimator sk-toggleable\"><input class=\"sk-toggleable__control sk-hidden--visually\" id=\"7251bcd7-e5cb-442d-a776-9b8432a9bb7f\" type=\"checkbox\" ><label class=\"sk-toggleable__label\" for=\"7251bcd7-e5cb-442d-a776-9b8432a9bb7f\">SimpleImputer</label><div class=\"sk-toggleable__content\"><pre>SimpleImputer()</pre></div></div></div><div class=\"sk-item\"><div class=\"sk-estimator sk-toggleable\"><input class=\"sk-toggleable__control sk-hidden--visually\" id=\"86445ab4-74ec-47aa-927b-c5e4f14b3984\" type=\"checkbox\" ><label class=\"sk-toggleable__label\" for=\"86445ab4-74ec-47aa-927b-c5e4f14b3984\">StandardScaler</label><div class=\"sk-toggleable__content\"><pre>StandardScaler()</pre></div></div></div></div></div></div></div></div><div class=\"sk-parallel-item\"><div class=\"sk-item\"><div class=\"sk-label-container\"><div class=\"sk-label sk-toggleable\"><input class=\"sk-toggleable__control sk-hidden--visually\" id=\"c71b2a22-a6f9-4c11-9d47-4751ff276574\" type=\"checkbox\" ><label class=\"sk-toggleable__label\" for=\"c71b2a22-a6f9-4c11-9d47-4751ff276574\">cat</label><div class=\"sk-toggleable__content\"><pre>Index(['hitpoint', 'outside.sideline', 'outside.baseline', 'same.side',\n",
       "       'previous.hitpoint', 'server.is.impact.player', 'gender'],\n",
       "      dtype='object')</pre></div></div></div><div class=\"sk-serial\"><div class=\"sk-item\"><div class=\"sk-serial\"><div class=\"sk-item\"><div class=\"sk-estimator sk-toggleable\"><input class=\"sk-toggleable__control sk-hidden--visually\" id=\"b1582b46-4056-47ad-a798-cbbfcba022f6\" type=\"checkbox\" ><label class=\"sk-toggleable__label\" for=\"b1582b46-4056-47ad-a798-cbbfcba022f6\">SimpleImputer</label><div class=\"sk-toggleable__content\"><pre>SimpleImputer(strategy='most_frequent')</pre></div></div></div><div class=\"sk-item\"><div class=\"sk-estimator sk-toggleable\"><input class=\"sk-toggleable__control sk-hidden--visually\" id=\"1bfa1521-e354-4947-8a88-08aba305576b\" type=\"checkbox\" ><label class=\"sk-toggleable__label\" for=\"1bfa1521-e354-4947-8a88-08aba305576b\">OneHotEncoder</label><div class=\"sk-toggleable__content\"><pre>OneHotEncoder(handle_unknown='ignore')</pre></div></div></div></div></div></div></div></div></div></div><div class=\"sk-item\"><div class=\"sk-estimator sk-toggleable\"><input class=\"sk-toggleable__control sk-hidden--visually\" id=\"e59e56fa-1970-49cb-b021-7e6825952967\" type=\"checkbox\" ><label class=\"sk-toggleable__label\" for=\"e59e56fa-1970-49cb-b021-7e6825952967\">GradientBoostingClassifier</label><div class=\"sk-toggleable__content\"><pre>GradientBoostingClassifier()</pre></div></div></div></div></div></div></div>"
      ],
      "text/plain": [
       "Pipeline(steps=[('preprocessor',\n",
       "                 ColumnTransformer(transformers=[('num',\n",
       "                                                  Pipeline(steps=[('imputer',\n",
       "                                                                   SimpleImputer()),\n",
       "                                                                  ('scaler',\n",
       "                                                                   StandardScaler())]),\n",
       "                                                  Index(['rally', 'serve', 'speed', 'net.clearance', 'distance.from.sideline',\n",
       "       'depth', 'player.distance.travelled', 'player.impact.depth',\n",
       "       'player.impact.distance.from.center', 'player.depth',\n",
       "       'player.distance.from.c...\n",
       "       'previous.time.to.net'],\n",
       "      dtype='object')),\n",
       "                                                 ('cat',\n",
       "                                                  Pipeline(steps=[('imputer',\n",
       "                                                                   SimpleImputer(strategy='most_frequent')),\n",
       "                                                                  ('onehot',\n",
       "                                                                   OneHotEncoder(handle_unknown='ignore'))]),\n",
       "                                                  Index(['hitpoint', 'outside.sideline', 'outside.baseline', 'same.side',\n",
       "       'previous.hitpoint', 'server.is.impact.player', 'gender'],\n",
       "      dtype='object'))])),\n",
       "                ('classifier', GradientBoostingClassifier())])"
      ]
     },
     "execution_count": 102,
     "metadata": {},
     "output_type": "execute_result"
    }
   ],
   "source": [
    "gradeboost_pipe.fit(X_train,y_train)"
   ]
  },
  {
   "cell_type": "code",
   "execution_count": 103,
   "metadata": {},
   "outputs": [],
   "source": [
    "train_pred_gradepipe = gradeboost_pipe.predict(X_train)\n",
    "test_pred_gradepipe = gradeboost_pipe.predict(X_test)"
   ]
  },
  {
   "cell_type": "code",
   "execution_count": 104,
   "metadata": {},
   "outputs": [
    {
     "name": "stdout",
     "output_type": "stream",
     "text": [
      "--Train--\n",
      "Confusion Matrix \n",
      " [[1047  198   28]\n",
      " [ 111 2268   71]\n",
      " [  15   29 1833]]\n",
      "Accurcay :  0.9192857142857143\n",
      "Recall   :  0.9192857142857143\n",
      "Precision:  0.9186019327461751\n",
      "--Test--\n",
      "Confusion Matrix \n",
      " [[389 131  25]\n",
      " [ 88 919  44]\n",
      " [ 18  15 772]]\n",
      "Accurcay :  0.8663057059558518\n",
      "Recall   :  0.8663057059558518\n",
      "Precision:  0.8638758037293539\n"
     ]
    }
   ],
   "source": [
    "print(\"--Train--\")\n",
    "evaluate_model(y_train, train_pred_gradepipe)\n",
    "print(\"--Test--\")\n",
    "evaluate_model(y_test, test_pred_gradepipe)"
   ]
  },
  {
   "cell_type": "code",
   "execution_count": null,
   "metadata": {},
   "outputs": [],
   "source": []
  },
  {
   "cell_type": "code",
   "execution_count": 105,
   "metadata": {},
   "outputs": [],
   "source": [
    "from xgboost import XGBClassifier\n"
   ]
  },
  {
   "cell_type": "code",
   "execution_count": 106,
   "metadata": {},
   "outputs": [],
   "source": [
    "xgb_pipe = Pipeline(steps=[('preprocessor', preprocessor),\n",
    "                      ('classifier', XGBClassifier())])"
   ]
  },
  {
   "cell_type": "code",
   "execution_count": 107,
   "metadata": {},
   "outputs": [],
   "source": [
    "xgb = XGBClassifier()"
   ]
  },
  {
   "cell_type": "code",
   "execution_count": 108,
   "metadata": {},
   "outputs": [
    {
     "name": "stderr",
     "output_type": "stream",
     "text": [
      "/usr/share/anaconda3/lib/python3.7/site-packages/xgboost/sklearn.py:1146: UserWarning: The use of label encoder in XGBClassifier is deprecated and will be removed in a future release. To remove this warning, do the following: 1) Pass option use_label_encoder=False when constructing XGBClassifier object; and 2) Encode your labels (y) as integers starting with 0, i.e. 0, 1, 2, ..., [num_class - 1].\n",
      "  warnings.warn(label_encoder_deprecation_msg, UserWarning)\n"
     ]
    },
    {
     "name": "stdout",
     "output_type": "stream",
     "text": [
      "[13:40:44] WARNING: ../src/learner.cc:1095: Starting in XGBoost 1.3.0, the default evaluation metric used with the objective 'multi:softprob' was changed from 'merror' to 'mlogloss'. Explicitly set eval_metric if you'd like to restore the old behavior.\n"
     ]
    },
    {
     "data": {
      "text/html": [
       "<style>#sk-9f3daa70-14de-47af-8181-0988209ec1e1 {color: black;background-color: white;}#sk-9f3daa70-14de-47af-8181-0988209ec1e1 pre{padding: 0;}#sk-9f3daa70-14de-47af-8181-0988209ec1e1 div.sk-toggleable {background-color: white;}#sk-9f3daa70-14de-47af-8181-0988209ec1e1 label.sk-toggleable__label {cursor: pointer;display: block;width: 100%;margin-bottom: 0;padding: 0.2em 0.3em;box-sizing: border-box;text-align: center;}#sk-9f3daa70-14de-47af-8181-0988209ec1e1 div.sk-toggleable__content {max-height: 0;max-width: 0;overflow: hidden;text-align: left;background-color: #f0f8ff;}#sk-9f3daa70-14de-47af-8181-0988209ec1e1 div.sk-toggleable__content pre {margin: 0.2em;color: black;border-radius: 0.25em;background-color: #f0f8ff;}#sk-9f3daa70-14de-47af-8181-0988209ec1e1 input.sk-toggleable__control:checked~div.sk-toggleable__content {max-height: 200px;max-width: 100%;overflow: auto;}#sk-9f3daa70-14de-47af-8181-0988209ec1e1 div.sk-estimator input.sk-toggleable__control:checked~label.sk-toggleable__label {background-color: #d4ebff;}#sk-9f3daa70-14de-47af-8181-0988209ec1e1 div.sk-label input.sk-toggleable__control:checked~label.sk-toggleable__label {background-color: #d4ebff;}#sk-9f3daa70-14de-47af-8181-0988209ec1e1 input.sk-hidden--visually {border: 0;clip: rect(1px 1px 1px 1px);clip: rect(1px, 1px, 1px, 1px);height: 1px;margin: -1px;overflow: hidden;padding: 0;position: absolute;width: 1px;}#sk-9f3daa70-14de-47af-8181-0988209ec1e1 div.sk-estimator {font-family: monospace;background-color: #f0f8ff;margin: 0.25em 0.25em;border: 1px dotted black;border-radius: 0.25em;box-sizing: border-box;}#sk-9f3daa70-14de-47af-8181-0988209ec1e1 div.sk-estimator:hover {background-color: #d4ebff;}#sk-9f3daa70-14de-47af-8181-0988209ec1e1 div.sk-parallel-item::after {content: \"\";width: 100%;border-bottom: 1px solid gray;flex-grow: 1;}#sk-9f3daa70-14de-47af-8181-0988209ec1e1 div.sk-label:hover label.sk-toggleable__label {background-color: #d4ebff;}#sk-9f3daa70-14de-47af-8181-0988209ec1e1 div.sk-serial::before {content: \"\";position: absolute;border-left: 1px solid gray;box-sizing: border-box;top: 2em;bottom: 0;left: 50%;}#sk-9f3daa70-14de-47af-8181-0988209ec1e1 div.sk-serial {display: flex;flex-direction: column;align-items: center;background-color: white;}#sk-9f3daa70-14de-47af-8181-0988209ec1e1 div.sk-item {z-index: 1;}#sk-9f3daa70-14de-47af-8181-0988209ec1e1 div.sk-parallel {display: flex;align-items: stretch;justify-content: center;background-color: white;}#sk-9f3daa70-14de-47af-8181-0988209ec1e1 div.sk-parallel-item {display: flex;flex-direction: column;position: relative;background-color: white;}#sk-9f3daa70-14de-47af-8181-0988209ec1e1 div.sk-parallel-item:first-child::after {align-self: flex-end;width: 50%;}#sk-9f3daa70-14de-47af-8181-0988209ec1e1 div.sk-parallel-item:last-child::after {align-self: flex-start;width: 50%;}#sk-9f3daa70-14de-47af-8181-0988209ec1e1 div.sk-parallel-item:only-child::after {width: 0;}#sk-9f3daa70-14de-47af-8181-0988209ec1e1 div.sk-dashed-wrapped {border: 1px dashed gray;margin: 0.2em;box-sizing: border-box;padding-bottom: 0.1em;background-color: white;position: relative;}#sk-9f3daa70-14de-47af-8181-0988209ec1e1 div.sk-label label {font-family: monospace;font-weight: bold;background-color: white;display: inline-block;line-height: 1.2em;}#sk-9f3daa70-14de-47af-8181-0988209ec1e1 div.sk-label-container {position: relative;z-index: 2;text-align: center;}#sk-9f3daa70-14de-47af-8181-0988209ec1e1 div.sk-container {display: inline-block;position: relative;}</style><div id=\"sk-9f3daa70-14de-47af-8181-0988209ec1e1\" class\"sk-top-container\"><div class=\"sk-container\"><div class=\"sk-item sk-dashed-wrapped\"><div class=\"sk-label-container\"><div class=\"sk-label sk-toggleable\"><input class=\"sk-toggleable__control sk-hidden--visually\" id=\"0600c1b8-a7d2-4fd1-93e4-4e38db3cfa02\" type=\"checkbox\" ><label class=\"sk-toggleable__label\" for=\"0600c1b8-a7d2-4fd1-93e4-4e38db3cfa02\">Pipeline</label><div class=\"sk-toggleable__content\"><pre>Pipeline(steps=[('preprocessor',\n",
       "                 ColumnTransformer(transformers=[('num',\n",
       "                                                  Pipeline(steps=[('imputer',\n",
       "                                                                   SimpleImputer()),\n",
       "                                                                  ('scaler',\n",
       "                                                                   StandardScaler())]),\n",
       "                                                  Index(['rally', 'serve', 'speed', 'net.clearance', 'distance.from.sideline',\n",
       "       'depth', 'player.distance.travelled', 'player.impact.depth',\n",
       "       'player.impact.distance.from.center', 'player.depth',\n",
       "       'player.distance.from.c...\n",
       "                               importance_type='gain',\n",
       "                               interaction_constraints='',\n",
       "                               learning_rate=0.300000012, max_delta_step=0,\n",
       "                               max_depth=6, min_child_weight=1, missing=nan,\n",
       "                               monotone_constraints='()', n_estimators=100,\n",
       "                               n_jobs=16, num_parallel_tree=1,\n",
       "                               objective='multi:softprob', random_state=0,\n",
       "                               reg_alpha=0, reg_lambda=1, scale_pos_weight=None,\n",
       "                               subsample=1, tree_method='exact',\n",
       "                               validate_parameters=1, verbosity=None))])</pre></div></div></div><div class=\"sk-serial\"><div class=\"sk-item sk-dashed-wrapped\"><div class=\"sk-label-container\"><div class=\"sk-label sk-toggleable\"><input class=\"sk-toggleable__control sk-hidden--visually\" id=\"d9c3c54d-1ec8-465e-87c6-8063865f82fb\" type=\"checkbox\" ><label class=\"sk-toggleable__label\" for=\"d9c3c54d-1ec8-465e-87c6-8063865f82fb\">preprocessor: ColumnTransformer</label><div class=\"sk-toggleable__content\"><pre>ColumnTransformer(transformers=[('num',\n",
       "                                 Pipeline(steps=[('imputer', SimpleImputer()),\n",
       "                                                 ('scaler', StandardScaler())]),\n",
       "                                 Index(['rally', 'serve', 'speed', 'net.clearance', 'distance.from.sideline',\n",
       "       'depth', 'player.distance.travelled', 'player.impact.depth',\n",
       "       'player.impact.distance.from.center', 'player.depth',\n",
       "       'player.distance.from.center', 'previous.speed',\n",
       "       'previou...\n",
       "       'previous.depth', 'opponent.depth', 'opponent.distance.from.center',\n",
       "       'previous.time.to.net'],\n",
       "      dtype='object')),\n",
       "                                ('cat',\n",
       "                                 Pipeline(steps=[('imputer',\n",
       "                                                  SimpleImputer(strategy='most_frequent')),\n",
       "                                                 ('onehot',\n",
       "                                                  OneHotEncoder(handle_unknown='ignore'))]),\n",
       "                                 Index(['hitpoint', 'outside.sideline', 'outside.baseline', 'same.side',\n",
       "       'previous.hitpoint', 'server.is.impact.player', 'gender'],\n",
       "      dtype='object'))])</pre></div></div></div><div class=\"sk-parallel\"><div class=\"sk-parallel-item\"><div class=\"sk-item\"><div class=\"sk-label-container\"><div class=\"sk-label sk-toggleable\"><input class=\"sk-toggleable__control sk-hidden--visually\" id=\"ce601095-fa18-4cbf-b61a-bb9f657b22c3\" type=\"checkbox\" ><label class=\"sk-toggleable__label\" for=\"ce601095-fa18-4cbf-b61a-bb9f657b22c3\">num</label><div class=\"sk-toggleable__content\"><pre>Index(['rally', 'serve', 'speed', 'net.clearance', 'distance.from.sideline',\n",
       "       'depth', 'player.distance.travelled', 'player.impact.depth',\n",
       "       'player.impact.distance.from.center', 'player.depth',\n",
       "       'player.distance.from.center', 'previous.speed',\n",
       "       'previous.net.clearance', 'previous.distance.from.sideline',\n",
       "       'previous.depth', 'opponent.depth', 'opponent.distance.from.center',\n",
       "       'previous.time.to.net'],\n",
       "      dtype='object')</pre></div></div></div><div class=\"sk-serial\"><div class=\"sk-item\"><div class=\"sk-serial\"><div class=\"sk-item\"><div class=\"sk-estimator sk-toggleable\"><input class=\"sk-toggleable__control sk-hidden--visually\" id=\"8a943a17-7a1d-4508-a9b4-640a8b24870e\" type=\"checkbox\" ><label class=\"sk-toggleable__label\" for=\"8a943a17-7a1d-4508-a9b4-640a8b24870e\">SimpleImputer</label><div class=\"sk-toggleable__content\"><pre>SimpleImputer()</pre></div></div></div><div class=\"sk-item\"><div class=\"sk-estimator sk-toggleable\"><input class=\"sk-toggleable__control sk-hidden--visually\" id=\"30b5ea82-b2ba-45d7-8573-b73a408ebf0c\" type=\"checkbox\" ><label class=\"sk-toggleable__label\" for=\"30b5ea82-b2ba-45d7-8573-b73a408ebf0c\">StandardScaler</label><div class=\"sk-toggleable__content\"><pre>StandardScaler()</pre></div></div></div></div></div></div></div></div><div class=\"sk-parallel-item\"><div class=\"sk-item\"><div class=\"sk-label-container\"><div class=\"sk-label sk-toggleable\"><input class=\"sk-toggleable__control sk-hidden--visually\" id=\"73ae3ab0-2d7b-4bd9-8c58-21e48c06222f\" type=\"checkbox\" ><label class=\"sk-toggleable__label\" for=\"73ae3ab0-2d7b-4bd9-8c58-21e48c06222f\">cat</label><div class=\"sk-toggleable__content\"><pre>Index(['hitpoint', 'outside.sideline', 'outside.baseline', 'same.side',\n",
       "       'previous.hitpoint', 'server.is.impact.player', 'gender'],\n",
       "      dtype='object')</pre></div></div></div><div class=\"sk-serial\"><div class=\"sk-item\"><div class=\"sk-serial\"><div class=\"sk-item\"><div class=\"sk-estimator sk-toggleable\"><input class=\"sk-toggleable__control sk-hidden--visually\" id=\"153bfa8e-eecd-42fe-a774-9a4b223daf9a\" type=\"checkbox\" ><label class=\"sk-toggleable__label\" for=\"153bfa8e-eecd-42fe-a774-9a4b223daf9a\">SimpleImputer</label><div class=\"sk-toggleable__content\"><pre>SimpleImputer(strategy='most_frequent')</pre></div></div></div><div class=\"sk-item\"><div class=\"sk-estimator sk-toggleable\"><input class=\"sk-toggleable__control sk-hidden--visually\" id=\"25d05780-d3a2-4fe8-b14c-53c4b86d7dcc\" type=\"checkbox\" ><label class=\"sk-toggleable__label\" for=\"25d05780-d3a2-4fe8-b14c-53c4b86d7dcc\">OneHotEncoder</label><div class=\"sk-toggleable__content\"><pre>OneHotEncoder(handle_unknown='ignore')</pre></div></div></div></div></div></div></div></div></div></div><div class=\"sk-item\"><div class=\"sk-estimator sk-toggleable\"><input class=\"sk-toggleable__control sk-hidden--visually\" id=\"2e69cc89-9542-4fe7-89b4-97fc9d9da2b4\" type=\"checkbox\" ><label class=\"sk-toggleable__label\" for=\"2e69cc89-9542-4fe7-89b4-97fc9d9da2b4\">XGBClassifier</label><div class=\"sk-toggleable__content\"><pre>XGBClassifier(base_score=0.5, booster='gbtree', colsample_bylevel=1,\n",
       "              colsample_bynode=1, colsample_bytree=1, gamma=0, gpu_id=-1,\n",
       "              importance_type='gain', interaction_constraints='',\n",
       "              learning_rate=0.300000012, max_delta_step=0, max_depth=6,\n",
       "              min_child_weight=1, missing=nan, monotone_constraints='()',\n",
       "              n_estimators=100, n_jobs=16, num_parallel_tree=1,\n",
       "              objective='multi:softprob', random_state=0, reg_alpha=0,\n",
       "              reg_lambda=1, scale_pos_weight=None, subsample=1,\n",
       "              tree_method='exact', validate_parameters=1, verbosity=None)</pre></div></div></div></div></div></div></div>"
      ],
      "text/plain": [
       "Pipeline(steps=[('preprocessor',\n",
       "                 ColumnTransformer(transformers=[('num',\n",
       "                                                  Pipeline(steps=[('imputer',\n",
       "                                                                   SimpleImputer()),\n",
       "                                                                  ('scaler',\n",
       "                                                                   StandardScaler())]),\n",
       "                                                  Index(['rally', 'serve', 'speed', 'net.clearance', 'distance.from.sideline',\n",
       "       'depth', 'player.distance.travelled', 'player.impact.depth',\n",
       "       'player.impact.distance.from.center', 'player.depth',\n",
       "       'player.distance.from.c...\n",
       "                               importance_type='gain',\n",
       "                               interaction_constraints='',\n",
       "                               learning_rate=0.300000012, max_delta_step=0,\n",
       "                               max_depth=6, min_child_weight=1, missing=nan,\n",
       "                               monotone_constraints='()', n_estimators=100,\n",
       "                               n_jobs=16, num_parallel_tree=1,\n",
       "                               objective='multi:softprob', random_state=0,\n",
       "                               reg_alpha=0, reg_lambda=1, scale_pos_weight=None,\n",
       "                               subsample=1, tree_method='exact',\n",
       "                               validate_parameters=1, verbosity=None))])"
      ]
     },
     "execution_count": 108,
     "metadata": {},
     "output_type": "execute_result"
    }
   ],
   "source": [
    "xgb_pipe.fit(X_train,y_train)"
   ]
  },
  {
   "cell_type": "code",
   "execution_count": 109,
   "metadata": {},
   "outputs": [],
   "source": [
    "train_pred_xgbpipe = xgb_pipe.predict(X_train)\n",
    "test_pred_xgbpipe = xgb_pipe.predict(X_test)"
   ]
  },
  {
   "cell_type": "code",
   "execution_count": 110,
   "metadata": {},
   "outputs": [
    {
     "name": "stdout",
     "output_type": "stream",
     "text": [
      "--Train--\n",
      "Confusion Matrix \n",
      " [[1273    0    0]\n",
      " [   0 2450    0]\n",
      " [   0    0 1877]]\n",
      "Accurcay :  1.0\n",
      "Recall   :  1.0\n",
      "Precision:  1.0\n",
      "--Test--\n",
      "Confusion Matrix \n",
      " [[407 112  26]\n",
      " [ 91 916  44]\n",
      " [ 20  18 767]]\n",
      "Accurcay :  0.8704706372344856\n",
      "Recall   :  0.8704706372344856\n",
      "Precision:  0.8689167411128847\n"
     ]
    }
   ],
   "source": [
    "print(\"--Train--\")\n",
    "evaluate_model(y_train, train_pred_xgbpipe)\n",
    "print(\"--Test--\")\n",
    "evaluate_model(y_test, test_pred_xgbpipe)"
   ]
  },
  {
   "cell_type": "code",
   "execution_count": 111,
   "metadata": {},
   "outputs": [],
   "source": [
    "performance_comparison = add_to_perform_compare_df(performance_comparison, 'xgbClassifier', y_train,train_pred_xgbpipe, y_test,test_pred_xgbpipe)"
   ]
  },
  {
   "cell_type": "code",
   "execution_count": 112,
   "metadata": {},
   "outputs": [],
   "source": [
    "performance_columns = ['Model name', 'Train accuracy', 'Train precision', 'Train recall','Test accuracy', 'Test precision', 'Test recall']\n",
    "performance_comparison = pd.DataFrame(columns=performance_columns)"
   ]
  },
  {
   "cell_type": "code",
   "execution_count": 113,
   "metadata": {},
   "outputs": [],
   "source": [
    "def add_to_perform_compare_df(df, model_name, train_actual, train_predict, test_actual, test_predict):\n",
    "    \n",
    "    from sklearn.metrics import confusion_matrix, accuracy_score, recall_score, precision_score\n",
    "    \n",
    "    train_accuracy = accuracy_score(train_actual, train_predict)\n",
    "    test_accuracy = accuracy_score(test_actual, test_predict)\n",
    "    \n",
    "    train_recall = recall_score(train_actual, train_predict,average=\"weighted\")\n",
    "    test_recall = recall_score(test_actual,test_predict,average=\"weighted\")\n",
    "    \n",
    "    train_precision = precision_score(train_actual, train_predict,average=\"weighted\")\n",
    "    test_precision = precision_score(test_actual, test_predict,average=\"weighted\")\n",
    "    \n",
    "    df = df.append(pd.Series([model_name, train_accuracy, train_precision, train_recall,\n",
    "                              test_accuracy, test_precision, test_recall],index=df.columns),ignore_index=True)\n",
    "    return df"
   ]
  },
  {
   "cell_type": "code",
   "execution_count": 114,
   "metadata": {},
   "outputs": [],
   "source": [
    "performance_comparison = add_to_perform_compare_df(performance_comparison, 'Random Forest', y_train, train_pred_RFPipe, y_test, test_pred_RFPipe)"
   ]
  },
  {
   "cell_type": "code",
   "execution_count": 115,
   "metadata": {},
   "outputs": [],
   "source": [
    "performance_comparison = add_to_perform_compare_df(performance_comparison, 'AdaBoostClassifie', y_train,train_pred_adapipe , y_test,test_pred_adapipe )"
   ]
  },
  {
   "cell_type": "code",
   "execution_count": 116,
   "metadata": {},
   "outputs": [],
   "source": [
    "performance_comparison = add_to_perform_compare_df(performance_comparison, 'GradientBoostingClassifier', y_train,train_pred_gradepipe, y_test,test_pred_gradepipe)"
   ]
  },
  {
   "cell_type": "code",
   "execution_count": 145,
   "metadata": {},
   "outputs": [],
   "source": [
    "performance_comparison = add_to_perform_compare_df(performance_comparison, 'xgbClassifier', y_train,train_pred_xgbpipe, y_test,test_pred_xgbpipe)"
   ]
  },
  {
   "cell_type": "code",
   "execution_count": 146,
   "metadata": {},
   "outputs": [
    {
     "data": {
      "text/html": [
       "<div>\n",
       "<style scoped>\n",
       "    .dataframe tbody tr th:only-of-type {\n",
       "        vertical-align: middle;\n",
       "    }\n",
       "\n",
       "    .dataframe tbody tr th {\n",
       "        vertical-align: top;\n",
       "    }\n",
       "\n",
       "    .dataframe thead th {\n",
       "        text-align: right;\n",
       "    }\n",
       "</style>\n",
       "<table border=\"1\" class=\"dataframe\">\n",
       "  <thead>\n",
       "    <tr style=\"text-align: right;\">\n",
       "      <th></th>\n",
       "      <th>Model name</th>\n",
       "      <th>Train accuracy</th>\n",
       "      <th>Train precision</th>\n",
       "      <th>Train recall</th>\n",
       "      <th>Test accuracy</th>\n",
       "      <th>Test precision</th>\n",
       "      <th>Test recall</th>\n",
       "    </tr>\n",
       "  </thead>\n",
       "  <tbody>\n",
       "    <tr>\n",
       "      <th>0</th>\n",
       "      <td>Random Forest</td>\n",
       "      <td>1.000000</td>\n",
       "      <td>1.000000</td>\n",
       "      <td>1.000000</td>\n",
       "      <td>0.858392</td>\n",
       "      <td>0.856103</td>\n",
       "      <td>0.858392</td>\n",
       "    </tr>\n",
       "    <tr>\n",
       "      <th>1</th>\n",
       "      <td>AdaBoostClassifie</td>\n",
       "      <td>0.849643</td>\n",
       "      <td>0.847281</td>\n",
       "      <td>0.849643</td>\n",
       "      <td>0.836318</td>\n",
       "      <td>0.833453</td>\n",
       "      <td>0.836318</td>\n",
       "    </tr>\n",
       "    <tr>\n",
       "      <th>2</th>\n",
       "      <td>GradientBoostingClassifier</td>\n",
       "      <td>0.919286</td>\n",
       "      <td>0.918602</td>\n",
       "      <td>0.919286</td>\n",
       "      <td>0.866306</td>\n",
       "      <td>0.863876</td>\n",
       "      <td>0.866306</td>\n",
       "    </tr>\n",
       "    <tr>\n",
       "      <th>3</th>\n",
       "      <td>Gridsearch</td>\n",
       "      <td>0.860000</td>\n",
       "      <td>0.863081</td>\n",
       "      <td>0.860000</td>\n",
       "      <td>0.842149</td>\n",
       "      <td>0.844453</td>\n",
       "      <td>0.842149</td>\n",
       "    </tr>\n",
       "    <tr>\n",
       "      <th>4</th>\n",
       "      <td>upsampling</td>\n",
       "      <td>1.000000</td>\n",
       "      <td>1.000000</td>\n",
       "      <td>1.000000</td>\n",
       "      <td>0.852561</td>\n",
       "      <td>0.854950</td>\n",
       "      <td>0.852561</td>\n",
       "    </tr>\n",
       "    <tr>\n",
       "      <th>5</th>\n",
       "      <td>xgbClassifier</td>\n",
       "      <td>1.000000</td>\n",
       "      <td>1.000000</td>\n",
       "      <td>1.000000</td>\n",
       "      <td>0.870471</td>\n",
       "      <td>0.868917</td>\n",
       "      <td>0.870471</td>\n",
       "    </tr>\n",
       "  </tbody>\n",
       "</table>\n",
       "</div>"
      ],
      "text/plain": [
       "                   Model name  Train accuracy  Train precision  Train recall  \\\n",
       "0               Random Forest        1.000000         1.000000      1.000000   \n",
       "1           AdaBoostClassifie        0.849643         0.847281      0.849643   \n",
       "2  GradientBoostingClassifier        0.919286         0.918602      0.919286   \n",
       "3                  Gridsearch        0.860000         0.863081      0.860000   \n",
       "4                  upsampling        1.000000         1.000000      1.000000   \n",
       "5               xgbClassifier        1.000000         1.000000      1.000000   \n",
       "\n",
       "   Test accuracy  Test precision  Test recall  \n",
       "0       0.858392        0.856103     0.858392  \n",
       "1       0.836318        0.833453     0.836318  \n",
       "2       0.866306        0.863876     0.866306  \n",
       "3       0.842149        0.844453     0.842149  \n",
       "4       0.852561        0.854950     0.852561  \n",
       "5       0.870471        0.868917     0.870471  "
      ]
     },
     "execution_count": 146,
     "metadata": {},
     "output_type": "execute_result"
    }
   ],
   "source": [
    "performance_comparison"
   ]
  },
  {
   "cell_type": "code",
   "execution_count": 118,
   "metadata": {},
   "outputs": [],
   "source": [
    "param_grid={\"n_estimators\":[50,100],\n",
    "           \"max_depth\":[1,5],\n",
    "            \"max_features\":[3,5],\n",
    "            \"min_samples_leaf\":[1,2,3]\n",
    "           }"
   ]
  },
  {
   "cell_type": "code",
   "execution_count": 119,
   "metadata": {},
   "outputs": [],
   "source": [
    "clf3=RandomForestClassifier()\n",
    "from sklearn.model_selection import GridSearchCV\n",
    "clf_grid=GridSearchCV(clf3,param_grid,cv=2)\n"
   ]
  },
  {
   "cell_type": "code",
   "execution_count": 120,
   "metadata": {},
   "outputs": [],
   "source": [
    "gridsearch = Pipeline(steps=[('preprocessor', preprocessor),\n",
    "                      ('classifier',GridSearchCV(clf3,param_grid,cv=2))])"
   ]
  },
  {
   "cell_type": "code",
   "execution_count": 121,
   "metadata": {},
   "outputs": [
    {
     "data": {
      "text/html": [
       "<style>#sk-5c58359c-2265-41b8-84ec-0c33027b7e95 {color: black;background-color: white;}#sk-5c58359c-2265-41b8-84ec-0c33027b7e95 pre{padding: 0;}#sk-5c58359c-2265-41b8-84ec-0c33027b7e95 div.sk-toggleable {background-color: white;}#sk-5c58359c-2265-41b8-84ec-0c33027b7e95 label.sk-toggleable__label {cursor: pointer;display: block;width: 100%;margin-bottom: 0;padding: 0.2em 0.3em;box-sizing: border-box;text-align: center;}#sk-5c58359c-2265-41b8-84ec-0c33027b7e95 div.sk-toggleable__content {max-height: 0;max-width: 0;overflow: hidden;text-align: left;background-color: #f0f8ff;}#sk-5c58359c-2265-41b8-84ec-0c33027b7e95 div.sk-toggleable__content pre {margin: 0.2em;color: black;border-radius: 0.25em;background-color: #f0f8ff;}#sk-5c58359c-2265-41b8-84ec-0c33027b7e95 input.sk-toggleable__control:checked~div.sk-toggleable__content {max-height: 200px;max-width: 100%;overflow: auto;}#sk-5c58359c-2265-41b8-84ec-0c33027b7e95 div.sk-estimator input.sk-toggleable__control:checked~label.sk-toggleable__label {background-color: #d4ebff;}#sk-5c58359c-2265-41b8-84ec-0c33027b7e95 div.sk-label input.sk-toggleable__control:checked~label.sk-toggleable__label {background-color: #d4ebff;}#sk-5c58359c-2265-41b8-84ec-0c33027b7e95 input.sk-hidden--visually {border: 0;clip: rect(1px 1px 1px 1px);clip: rect(1px, 1px, 1px, 1px);height: 1px;margin: -1px;overflow: hidden;padding: 0;position: absolute;width: 1px;}#sk-5c58359c-2265-41b8-84ec-0c33027b7e95 div.sk-estimator {font-family: monospace;background-color: #f0f8ff;margin: 0.25em 0.25em;border: 1px dotted black;border-radius: 0.25em;box-sizing: border-box;}#sk-5c58359c-2265-41b8-84ec-0c33027b7e95 div.sk-estimator:hover {background-color: #d4ebff;}#sk-5c58359c-2265-41b8-84ec-0c33027b7e95 div.sk-parallel-item::after {content: \"\";width: 100%;border-bottom: 1px solid gray;flex-grow: 1;}#sk-5c58359c-2265-41b8-84ec-0c33027b7e95 div.sk-label:hover label.sk-toggleable__label {background-color: #d4ebff;}#sk-5c58359c-2265-41b8-84ec-0c33027b7e95 div.sk-serial::before {content: \"\";position: absolute;border-left: 1px solid gray;box-sizing: border-box;top: 2em;bottom: 0;left: 50%;}#sk-5c58359c-2265-41b8-84ec-0c33027b7e95 div.sk-serial {display: flex;flex-direction: column;align-items: center;background-color: white;}#sk-5c58359c-2265-41b8-84ec-0c33027b7e95 div.sk-item {z-index: 1;}#sk-5c58359c-2265-41b8-84ec-0c33027b7e95 div.sk-parallel {display: flex;align-items: stretch;justify-content: center;background-color: white;}#sk-5c58359c-2265-41b8-84ec-0c33027b7e95 div.sk-parallel-item {display: flex;flex-direction: column;position: relative;background-color: white;}#sk-5c58359c-2265-41b8-84ec-0c33027b7e95 div.sk-parallel-item:first-child::after {align-self: flex-end;width: 50%;}#sk-5c58359c-2265-41b8-84ec-0c33027b7e95 div.sk-parallel-item:last-child::after {align-self: flex-start;width: 50%;}#sk-5c58359c-2265-41b8-84ec-0c33027b7e95 div.sk-parallel-item:only-child::after {width: 0;}#sk-5c58359c-2265-41b8-84ec-0c33027b7e95 div.sk-dashed-wrapped {border: 1px dashed gray;margin: 0.2em;box-sizing: border-box;padding-bottom: 0.1em;background-color: white;position: relative;}#sk-5c58359c-2265-41b8-84ec-0c33027b7e95 div.sk-label label {font-family: monospace;font-weight: bold;background-color: white;display: inline-block;line-height: 1.2em;}#sk-5c58359c-2265-41b8-84ec-0c33027b7e95 div.sk-label-container {position: relative;z-index: 2;text-align: center;}#sk-5c58359c-2265-41b8-84ec-0c33027b7e95 div.sk-container {display: inline-block;position: relative;}</style><div id=\"sk-5c58359c-2265-41b8-84ec-0c33027b7e95\" class\"sk-top-container\"><div class=\"sk-container\"><div class=\"sk-item sk-dashed-wrapped\"><div class=\"sk-label-container\"><div class=\"sk-label sk-toggleable\"><input class=\"sk-toggleable__control sk-hidden--visually\" id=\"570aedc3-4fd9-4b3c-9222-a90c10ae3bad\" type=\"checkbox\" ><label class=\"sk-toggleable__label\" for=\"570aedc3-4fd9-4b3c-9222-a90c10ae3bad\">Pipeline</label><div class=\"sk-toggleable__content\"><pre>Pipeline(steps=[('preprocessor',\n",
       "                 ColumnTransformer(transformers=[('num',\n",
       "                                                  Pipeline(steps=[('imputer',\n",
       "                                                                   SimpleImputer()),\n",
       "                                                                  ('scaler',\n",
       "                                                                   StandardScaler())]),\n",
       "                                                  Index(['rally', 'serve', 'speed', 'net.clearance', 'distance.from.sideline',\n",
       "       'depth', 'player.distance.travelled', 'player.impact.depth',\n",
       "       'player.impact.distance.from.center', 'player.depth',\n",
       "       'player.distance.from.c...\n",
       "                                                                   OneHotEncoder(handle_unknown='ignore'))]),\n",
       "                                                  Index(['hitpoint', 'outside.sideline', 'outside.baseline', 'same.side',\n",
       "       'previous.hitpoint', 'server.is.impact.player', 'gender'],\n",
       "      dtype='object'))])),\n",
       "                ('classifier',\n",
       "                 GridSearchCV(cv=2, estimator=RandomForestClassifier(),\n",
       "                              param_grid={'max_depth': [1, 5],\n",
       "                                          'max_features': [3, 5],\n",
       "                                          'min_samples_leaf': [1, 2, 3],\n",
       "                                          'n_estimators': [50, 100]}))])</pre></div></div></div><div class=\"sk-serial\"><div class=\"sk-item sk-dashed-wrapped\"><div class=\"sk-label-container\"><div class=\"sk-label sk-toggleable\"><input class=\"sk-toggleable__control sk-hidden--visually\" id=\"bf64ee93-ffc6-47c3-a867-cd841f77ae41\" type=\"checkbox\" ><label class=\"sk-toggleable__label\" for=\"bf64ee93-ffc6-47c3-a867-cd841f77ae41\">preprocessor: ColumnTransformer</label><div class=\"sk-toggleable__content\"><pre>ColumnTransformer(transformers=[('num',\n",
       "                                 Pipeline(steps=[('imputer', SimpleImputer()),\n",
       "                                                 ('scaler', StandardScaler())]),\n",
       "                                 Index(['rally', 'serve', 'speed', 'net.clearance', 'distance.from.sideline',\n",
       "       'depth', 'player.distance.travelled', 'player.impact.depth',\n",
       "       'player.impact.distance.from.center', 'player.depth',\n",
       "       'player.distance.from.center', 'previous.speed',\n",
       "       'previou...\n",
       "       'previous.depth', 'opponent.depth', 'opponent.distance.from.center',\n",
       "       'previous.time.to.net'],\n",
       "      dtype='object')),\n",
       "                                ('cat',\n",
       "                                 Pipeline(steps=[('imputer',\n",
       "                                                  SimpleImputer(strategy='most_frequent')),\n",
       "                                                 ('onehot',\n",
       "                                                  OneHotEncoder(handle_unknown='ignore'))]),\n",
       "                                 Index(['hitpoint', 'outside.sideline', 'outside.baseline', 'same.side',\n",
       "       'previous.hitpoint', 'server.is.impact.player', 'gender'],\n",
       "      dtype='object'))])</pre></div></div></div><div class=\"sk-parallel\"><div class=\"sk-parallel-item\"><div class=\"sk-item\"><div class=\"sk-label-container\"><div class=\"sk-label sk-toggleable\"><input class=\"sk-toggleable__control sk-hidden--visually\" id=\"31c773ba-192d-468f-a9e6-8c768d8dce0b\" type=\"checkbox\" ><label class=\"sk-toggleable__label\" for=\"31c773ba-192d-468f-a9e6-8c768d8dce0b\">num</label><div class=\"sk-toggleable__content\"><pre>Index(['rally', 'serve', 'speed', 'net.clearance', 'distance.from.sideline',\n",
       "       'depth', 'player.distance.travelled', 'player.impact.depth',\n",
       "       'player.impact.distance.from.center', 'player.depth',\n",
       "       'player.distance.from.center', 'previous.speed',\n",
       "       'previous.net.clearance', 'previous.distance.from.sideline',\n",
       "       'previous.depth', 'opponent.depth', 'opponent.distance.from.center',\n",
       "       'previous.time.to.net'],\n",
       "      dtype='object')</pre></div></div></div><div class=\"sk-serial\"><div class=\"sk-item\"><div class=\"sk-serial\"><div class=\"sk-item\"><div class=\"sk-estimator sk-toggleable\"><input class=\"sk-toggleable__control sk-hidden--visually\" id=\"a1596387-b5c0-48ee-93d6-f9693aa3d23e\" type=\"checkbox\" ><label class=\"sk-toggleable__label\" for=\"a1596387-b5c0-48ee-93d6-f9693aa3d23e\">SimpleImputer</label><div class=\"sk-toggleable__content\"><pre>SimpleImputer()</pre></div></div></div><div class=\"sk-item\"><div class=\"sk-estimator sk-toggleable\"><input class=\"sk-toggleable__control sk-hidden--visually\" id=\"26c1fae5-d3b6-42e3-a35b-2374e9367b33\" type=\"checkbox\" ><label class=\"sk-toggleable__label\" for=\"26c1fae5-d3b6-42e3-a35b-2374e9367b33\">StandardScaler</label><div class=\"sk-toggleable__content\"><pre>StandardScaler()</pre></div></div></div></div></div></div></div></div><div class=\"sk-parallel-item\"><div class=\"sk-item\"><div class=\"sk-label-container\"><div class=\"sk-label sk-toggleable\"><input class=\"sk-toggleable__control sk-hidden--visually\" id=\"463c364b-6b52-46c7-929e-919ca708dad9\" type=\"checkbox\" ><label class=\"sk-toggleable__label\" for=\"463c364b-6b52-46c7-929e-919ca708dad9\">cat</label><div class=\"sk-toggleable__content\"><pre>Index(['hitpoint', 'outside.sideline', 'outside.baseline', 'same.side',\n",
       "       'previous.hitpoint', 'server.is.impact.player', 'gender'],\n",
       "      dtype='object')</pre></div></div></div><div class=\"sk-serial\"><div class=\"sk-item\"><div class=\"sk-serial\"><div class=\"sk-item\"><div class=\"sk-estimator sk-toggleable\"><input class=\"sk-toggleable__control sk-hidden--visually\" id=\"34ee03eb-f560-43a8-9d4c-a68ec4de9726\" type=\"checkbox\" ><label class=\"sk-toggleable__label\" for=\"34ee03eb-f560-43a8-9d4c-a68ec4de9726\">SimpleImputer</label><div class=\"sk-toggleable__content\"><pre>SimpleImputer(strategy='most_frequent')</pre></div></div></div><div class=\"sk-item\"><div class=\"sk-estimator sk-toggleable\"><input class=\"sk-toggleable__control sk-hidden--visually\" id=\"9d5a866d-5e25-4f18-a1a1-bf7f202af437\" type=\"checkbox\" ><label class=\"sk-toggleable__label\" for=\"9d5a866d-5e25-4f18-a1a1-bf7f202af437\">OneHotEncoder</label><div class=\"sk-toggleable__content\"><pre>OneHotEncoder(handle_unknown='ignore')</pre></div></div></div></div></div></div></div></div></div></div><div class=\"sk-item sk-dashed-wrapped\"><div class=\"sk-label-container\"><div class=\"sk-label sk-toggleable\"><input class=\"sk-toggleable__control sk-hidden--visually\" id=\"e93e4be2-cf82-41e3-bb68-0aaee9f1ea80\" type=\"checkbox\" ><label class=\"sk-toggleable__label\" for=\"e93e4be2-cf82-41e3-bb68-0aaee9f1ea80\">classifier: GridSearchCV</label><div class=\"sk-toggleable__content\"><pre>GridSearchCV(cv=2, estimator=RandomForestClassifier(),\n",
       "             param_grid={'max_depth': [1, 5], 'max_features': [3, 5],\n",
       "                         'min_samples_leaf': [1, 2, 3],\n",
       "                         'n_estimators': [50, 100]})</pre></div></div></div><div class=\"sk-parallel\"><div class=\"sk-parallel-item\"><div class=\"sk-item\"><div class=\"sk-serial\"><div class=\"sk-item\"><div class=\"sk-estimator sk-toggleable\"><input class=\"sk-toggleable__control sk-hidden--visually\" id=\"fa618bb9-4ae6-47e6-a70b-d4db64f9b529\" type=\"checkbox\" ><label class=\"sk-toggleable__label\" for=\"fa618bb9-4ae6-47e6-a70b-d4db64f9b529\">RandomForestClassifier</label><div class=\"sk-toggleable__content\"><pre>RandomForestClassifier()</pre></div></div></div></div></div></div></div></div></div></div></div></div>"
      ],
      "text/plain": [
       "Pipeline(steps=[('preprocessor',\n",
       "                 ColumnTransformer(transformers=[('num',\n",
       "                                                  Pipeline(steps=[('imputer',\n",
       "                                                                   SimpleImputer()),\n",
       "                                                                  ('scaler',\n",
       "                                                                   StandardScaler())]),\n",
       "                                                  Index(['rally', 'serve', 'speed', 'net.clearance', 'distance.from.sideline',\n",
       "       'depth', 'player.distance.travelled', 'player.impact.depth',\n",
       "       'player.impact.distance.from.center', 'player.depth',\n",
       "       'player.distance.from.c...\n",
       "                                                                   OneHotEncoder(handle_unknown='ignore'))]),\n",
       "                                                  Index(['hitpoint', 'outside.sideline', 'outside.baseline', 'same.side',\n",
       "       'previous.hitpoint', 'server.is.impact.player', 'gender'],\n",
       "      dtype='object'))])),\n",
       "                ('classifier',\n",
       "                 GridSearchCV(cv=2, estimator=RandomForestClassifier(),\n",
       "                              param_grid={'max_depth': [1, 5],\n",
       "                                          'max_features': [3, 5],\n",
       "                                          'min_samples_leaf': [1, 2, 3],\n",
       "                                          'n_estimators': [50, 100]}))])"
      ]
     },
     "execution_count": 121,
     "metadata": {},
     "output_type": "execute_result"
    }
   ],
   "source": [
    "gridsearch.fit(X_train,y_train)"
   ]
  },
  {
   "cell_type": "code",
   "execution_count": 122,
   "metadata": {},
   "outputs": [],
   "source": [
    "train_pred_gridepipe = gridsearch.predict(X_train)\n",
    "test_pred_gridepipe = gridsearch.predict(X_test)"
   ]
  },
  {
   "cell_type": "code",
   "execution_count": 123,
   "metadata": {},
   "outputs": [
    {
     "name": "stdout",
     "output_type": "stream",
     "text": [
      "--Train--\n",
      "Confusion Matrix \n",
      " [[ 748  466   59]\n",
      " [  82 2265  103]\n",
      " [  23   51 1803]]\n",
      "Accurcay :  0.86\n",
      "Recall   :  0.86\n",
      "Precision:  0.8630809175028126\n",
      "--Test--\n",
      "Confusion Matrix \n",
      " [[298 213  34]\n",
      " [ 36 952  63]\n",
      " [ 13  20 772]]\n",
      "Accurcay :  0.8421491045397751\n",
      "Recall   :  0.8421491045397751\n",
      "Precision:  0.8444530898144498\n"
     ]
    }
   ],
   "source": [
    "print(\"--Train--\")\n",
    "evaluate_model(y_train, train_pred_gridepipe)\n",
    "print(\"--Test--\")\n",
    "evaluate_model(y_test, test_pred_gridepipe)"
   ]
  },
  {
   "cell_type": "code",
   "execution_count": 124,
   "metadata": {},
   "outputs": [],
   "source": [
    "performance_comparison = add_to_perform_compare_df(performance_comparison, 'Gridsearch', y_train,train_pred_gridepipe, y_test,test_pred_gridepipe)"
   ]
  },
  {
   "cell_type": "code",
   "execution_count": 125,
   "metadata": {},
   "outputs": [
    {
     "data": {
      "text/html": [
       "<div>\n",
       "<style scoped>\n",
       "    .dataframe tbody tr th:only-of-type {\n",
       "        vertical-align: middle;\n",
       "    }\n",
       "\n",
       "    .dataframe tbody tr th {\n",
       "        vertical-align: top;\n",
       "    }\n",
       "\n",
       "    .dataframe thead th {\n",
       "        text-align: right;\n",
       "    }\n",
       "</style>\n",
       "<table border=\"1\" class=\"dataframe\">\n",
       "  <thead>\n",
       "    <tr style=\"text-align: right;\">\n",
       "      <th></th>\n",
       "      <th>Model name</th>\n",
       "      <th>Train accuracy</th>\n",
       "      <th>Train precision</th>\n",
       "      <th>Train recall</th>\n",
       "      <th>Test accuracy</th>\n",
       "      <th>Test precision</th>\n",
       "      <th>Test recall</th>\n",
       "    </tr>\n",
       "  </thead>\n",
       "  <tbody>\n",
       "    <tr>\n",
       "      <th>0</th>\n",
       "      <td>Random Forest</td>\n",
       "      <td>1.000000</td>\n",
       "      <td>1.000000</td>\n",
       "      <td>1.000000</td>\n",
       "      <td>0.858392</td>\n",
       "      <td>0.856103</td>\n",
       "      <td>0.858392</td>\n",
       "    </tr>\n",
       "    <tr>\n",
       "      <th>1</th>\n",
       "      <td>AdaBoostClassifie</td>\n",
       "      <td>0.849643</td>\n",
       "      <td>0.847281</td>\n",
       "      <td>0.849643</td>\n",
       "      <td>0.836318</td>\n",
       "      <td>0.833453</td>\n",
       "      <td>0.836318</td>\n",
       "    </tr>\n",
       "    <tr>\n",
       "      <th>2</th>\n",
       "      <td>GradientBoostingClassifier</td>\n",
       "      <td>0.919286</td>\n",
       "      <td>0.918602</td>\n",
       "      <td>0.919286</td>\n",
       "      <td>0.866306</td>\n",
       "      <td>0.863876</td>\n",
       "      <td>0.866306</td>\n",
       "    </tr>\n",
       "    <tr>\n",
       "      <th>3</th>\n",
       "      <td>Gridsearch</td>\n",
       "      <td>0.860000</td>\n",
       "      <td>0.863081</td>\n",
       "      <td>0.860000</td>\n",
       "      <td>0.842149</td>\n",
       "      <td>0.844453</td>\n",
       "      <td>0.842149</td>\n",
       "    </tr>\n",
       "  </tbody>\n",
       "</table>\n",
       "</div>"
      ],
      "text/plain": [
       "                   Model name  Train accuracy  Train precision  Train recall  \\\n",
       "0               Random Forest        1.000000         1.000000      1.000000   \n",
       "1           AdaBoostClassifie        0.849643         0.847281      0.849643   \n",
       "2  GradientBoostingClassifier        0.919286         0.918602      0.919286   \n",
       "3                  Gridsearch        0.860000         0.863081      0.860000   \n",
       "\n",
       "   Test accuracy  Test precision  Test recall  \n",
       "0       0.858392        0.856103     0.858392  \n",
       "1       0.836318        0.833453     0.836318  \n",
       "2       0.866306        0.863876     0.866306  \n",
       "3       0.842149        0.844453     0.842149  "
      ]
     },
     "execution_count": 125,
     "metadata": {},
     "output_type": "execute_result"
    }
   ],
   "source": [
    "performance_comparison"
   ]
  },
  {
   "cell_type": "code",
   "execution_count": 126,
   "metadata": {},
   "outputs": [],
   "source": [
    "from imblearn.over_sampling import SMOTE\n",
    "smote = SMOTE(random_state=123)\n"
   ]
  },
  {
   "cell_type": "code",
   "execution_count": 127,
   "metadata": {},
   "outputs": [],
   "source": [
    "smotepipe = Pipeline(steps=[('preprocessor', preprocessor),\n",
    "                      ('classifier',SMOTE())])"
   ]
  },
  {
   "cell_type": "code",
   "execution_count": 128,
   "metadata": {},
   "outputs": [
    {
     "data": {
      "text/html": [
       "<style>#sk-33d73751-7053-4949-bd1c-1b27a5c84964 {color: black;background-color: white;}#sk-33d73751-7053-4949-bd1c-1b27a5c84964 pre{padding: 0;}#sk-33d73751-7053-4949-bd1c-1b27a5c84964 div.sk-toggleable {background-color: white;}#sk-33d73751-7053-4949-bd1c-1b27a5c84964 label.sk-toggleable__label {cursor: pointer;display: block;width: 100%;margin-bottom: 0;padding: 0.2em 0.3em;box-sizing: border-box;text-align: center;}#sk-33d73751-7053-4949-bd1c-1b27a5c84964 div.sk-toggleable__content {max-height: 0;max-width: 0;overflow: hidden;text-align: left;background-color: #f0f8ff;}#sk-33d73751-7053-4949-bd1c-1b27a5c84964 div.sk-toggleable__content pre {margin: 0.2em;color: black;border-radius: 0.25em;background-color: #f0f8ff;}#sk-33d73751-7053-4949-bd1c-1b27a5c84964 input.sk-toggleable__control:checked~div.sk-toggleable__content {max-height: 200px;max-width: 100%;overflow: auto;}#sk-33d73751-7053-4949-bd1c-1b27a5c84964 div.sk-estimator input.sk-toggleable__control:checked~label.sk-toggleable__label {background-color: #d4ebff;}#sk-33d73751-7053-4949-bd1c-1b27a5c84964 div.sk-label input.sk-toggleable__control:checked~label.sk-toggleable__label {background-color: #d4ebff;}#sk-33d73751-7053-4949-bd1c-1b27a5c84964 input.sk-hidden--visually {border: 0;clip: rect(1px 1px 1px 1px);clip: rect(1px, 1px, 1px, 1px);height: 1px;margin: -1px;overflow: hidden;padding: 0;position: absolute;width: 1px;}#sk-33d73751-7053-4949-bd1c-1b27a5c84964 div.sk-estimator {font-family: monospace;background-color: #f0f8ff;margin: 0.25em 0.25em;border: 1px dotted black;border-radius: 0.25em;box-sizing: border-box;}#sk-33d73751-7053-4949-bd1c-1b27a5c84964 div.sk-estimator:hover {background-color: #d4ebff;}#sk-33d73751-7053-4949-bd1c-1b27a5c84964 div.sk-parallel-item::after {content: \"\";width: 100%;border-bottom: 1px solid gray;flex-grow: 1;}#sk-33d73751-7053-4949-bd1c-1b27a5c84964 div.sk-label:hover label.sk-toggleable__label {background-color: #d4ebff;}#sk-33d73751-7053-4949-bd1c-1b27a5c84964 div.sk-serial::before {content: \"\";position: absolute;border-left: 1px solid gray;box-sizing: border-box;top: 2em;bottom: 0;left: 50%;}#sk-33d73751-7053-4949-bd1c-1b27a5c84964 div.sk-serial {display: flex;flex-direction: column;align-items: center;background-color: white;}#sk-33d73751-7053-4949-bd1c-1b27a5c84964 div.sk-item {z-index: 1;}#sk-33d73751-7053-4949-bd1c-1b27a5c84964 div.sk-parallel {display: flex;align-items: stretch;justify-content: center;background-color: white;}#sk-33d73751-7053-4949-bd1c-1b27a5c84964 div.sk-parallel-item {display: flex;flex-direction: column;position: relative;background-color: white;}#sk-33d73751-7053-4949-bd1c-1b27a5c84964 div.sk-parallel-item:first-child::after {align-self: flex-end;width: 50%;}#sk-33d73751-7053-4949-bd1c-1b27a5c84964 div.sk-parallel-item:last-child::after {align-self: flex-start;width: 50%;}#sk-33d73751-7053-4949-bd1c-1b27a5c84964 div.sk-parallel-item:only-child::after {width: 0;}#sk-33d73751-7053-4949-bd1c-1b27a5c84964 div.sk-dashed-wrapped {border: 1px dashed gray;margin: 0.2em;box-sizing: border-box;padding-bottom: 0.1em;background-color: white;position: relative;}#sk-33d73751-7053-4949-bd1c-1b27a5c84964 div.sk-label label {font-family: monospace;font-weight: bold;background-color: white;display: inline-block;line-height: 1.2em;}#sk-33d73751-7053-4949-bd1c-1b27a5c84964 div.sk-label-container {position: relative;z-index: 2;text-align: center;}#sk-33d73751-7053-4949-bd1c-1b27a5c84964 div.sk-container {display: inline-block;position: relative;}</style><div id=\"sk-33d73751-7053-4949-bd1c-1b27a5c84964\" class\"sk-top-container\"><div class=\"sk-container\"><div class=\"sk-item sk-dashed-wrapped\"><div class=\"sk-label-container\"><div class=\"sk-label sk-toggleable\"><input class=\"sk-toggleable__control sk-hidden--visually\" id=\"bc69bc45-f7d1-4b2b-8795-3a6d9c226ff7\" type=\"checkbox\" ><label class=\"sk-toggleable__label\" for=\"bc69bc45-f7d1-4b2b-8795-3a6d9c226ff7\">Pipeline</label><div class=\"sk-toggleable__content\"><pre>Pipeline(steps=[('preprocessor',\n",
       "                 ColumnTransformer(transformers=[('num',\n",
       "                                                  Pipeline(steps=[('imputer',\n",
       "                                                                   SimpleImputer()),\n",
       "                                                                  ('scaler',\n",
       "                                                                   StandardScaler())]),\n",
       "                                                  Index(['rally', 'serve', 'speed', 'net.clearance', 'distance.from.sideline',\n",
       "       'depth', 'player.distance.travelled', 'player.impact.depth',\n",
       "       'player.impact.distance.from.center', 'player.depth',\n",
       "       'player.distance.from.c...\n",
       "       'previous.depth', 'opponent.depth', 'opponent.distance.from.center',\n",
       "       'previous.time.to.net'],\n",
       "      dtype='object')),\n",
       "                                                 ('cat',\n",
       "                                                  Pipeline(steps=[('imputer',\n",
       "                                                                   SimpleImputer(strategy='most_frequent')),\n",
       "                                                                  ('onehot',\n",
       "                                                                   OneHotEncoder(handle_unknown='ignore'))]),\n",
       "                                                  Index(['hitpoint', 'outside.sideline', 'outside.baseline', 'same.side',\n",
       "       'previous.hitpoint', 'server.is.impact.player', 'gender'],\n",
       "      dtype='object'))])),\n",
       "                ('classifier', SMOTE())])</pre></div></div></div><div class=\"sk-serial\"><div class=\"sk-item sk-dashed-wrapped\"><div class=\"sk-label-container\"><div class=\"sk-label sk-toggleable\"><input class=\"sk-toggleable__control sk-hidden--visually\" id=\"ef87af16-8937-4e06-ac12-50b1296ea5fe\" type=\"checkbox\" ><label class=\"sk-toggleable__label\" for=\"ef87af16-8937-4e06-ac12-50b1296ea5fe\">preprocessor: ColumnTransformer</label><div class=\"sk-toggleable__content\"><pre>ColumnTransformer(transformers=[('num',\n",
       "                                 Pipeline(steps=[('imputer', SimpleImputer()),\n",
       "                                                 ('scaler', StandardScaler())]),\n",
       "                                 Index(['rally', 'serve', 'speed', 'net.clearance', 'distance.from.sideline',\n",
       "       'depth', 'player.distance.travelled', 'player.impact.depth',\n",
       "       'player.impact.distance.from.center', 'player.depth',\n",
       "       'player.distance.from.center', 'previous.speed',\n",
       "       'previou...\n",
       "       'previous.depth', 'opponent.depth', 'opponent.distance.from.center',\n",
       "       'previous.time.to.net'],\n",
       "      dtype='object')),\n",
       "                                ('cat',\n",
       "                                 Pipeline(steps=[('imputer',\n",
       "                                                  SimpleImputer(strategy='most_frequent')),\n",
       "                                                 ('onehot',\n",
       "                                                  OneHotEncoder(handle_unknown='ignore'))]),\n",
       "                                 Index(['hitpoint', 'outside.sideline', 'outside.baseline', 'same.side',\n",
       "       'previous.hitpoint', 'server.is.impact.player', 'gender'],\n",
       "      dtype='object'))])</pre></div></div></div><div class=\"sk-parallel\"><div class=\"sk-parallel-item\"><div class=\"sk-item\"><div class=\"sk-label-container\"><div class=\"sk-label sk-toggleable\"><input class=\"sk-toggleable__control sk-hidden--visually\" id=\"5ccf4a5b-4d8b-4492-b938-083907be4a26\" type=\"checkbox\" ><label class=\"sk-toggleable__label\" for=\"5ccf4a5b-4d8b-4492-b938-083907be4a26\">num</label><div class=\"sk-toggleable__content\"><pre>Index(['rally', 'serve', 'speed', 'net.clearance', 'distance.from.sideline',\n",
       "       'depth', 'player.distance.travelled', 'player.impact.depth',\n",
       "       'player.impact.distance.from.center', 'player.depth',\n",
       "       'player.distance.from.center', 'previous.speed',\n",
       "       'previous.net.clearance', 'previous.distance.from.sideline',\n",
       "       'previous.depth', 'opponent.depth', 'opponent.distance.from.center',\n",
       "       'previous.time.to.net'],\n",
       "      dtype='object')</pre></div></div></div><div class=\"sk-serial\"><div class=\"sk-item\"><div class=\"sk-serial\"><div class=\"sk-item\"><div class=\"sk-estimator sk-toggleable\"><input class=\"sk-toggleable__control sk-hidden--visually\" id=\"6ac8de59-f4bc-46c7-a22c-dbc7ebb5d709\" type=\"checkbox\" ><label class=\"sk-toggleable__label\" for=\"6ac8de59-f4bc-46c7-a22c-dbc7ebb5d709\">SimpleImputer</label><div class=\"sk-toggleable__content\"><pre>SimpleImputer()</pre></div></div></div><div class=\"sk-item\"><div class=\"sk-estimator sk-toggleable\"><input class=\"sk-toggleable__control sk-hidden--visually\" id=\"3b7d56ab-90bb-4459-8481-d52c1166fd23\" type=\"checkbox\" ><label class=\"sk-toggleable__label\" for=\"3b7d56ab-90bb-4459-8481-d52c1166fd23\">StandardScaler</label><div class=\"sk-toggleable__content\"><pre>StandardScaler()</pre></div></div></div></div></div></div></div></div><div class=\"sk-parallel-item\"><div class=\"sk-item\"><div class=\"sk-label-container\"><div class=\"sk-label sk-toggleable\"><input class=\"sk-toggleable__control sk-hidden--visually\" id=\"86a8b961-945b-49a2-a276-1fb8cdd722b0\" type=\"checkbox\" ><label class=\"sk-toggleable__label\" for=\"86a8b961-945b-49a2-a276-1fb8cdd722b0\">cat</label><div class=\"sk-toggleable__content\"><pre>Index(['hitpoint', 'outside.sideline', 'outside.baseline', 'same.side',\n",
       "       'previous.hitpoint', 'server.is.impact.player', 'gender'],\n",
       "      dtype='object')</pre></div></div></div><div class=\"sk-serial\"><div class=\"sk-item\"><div class=\"sk-serial\"><div class=\"sk-item\"><div class=\"sk-estimator sk-toggleable\"><input class=\"sk-toggleable__control sk-hidden--visually\" id=\"34296479-3f5d-4551-90fc-59d635adfded\" type=\"checkbox\" ><label class=\"sk-toggleable__label\" for=\"34296479-3f5d-4551-90fc-59d635adfded\">SimpleImputer</label><div class=\"sk-toggleable__content\"><pre>SimpleImputer(strategy='most_frequent')</pre></div></div></div><div class=\"sk-item\"><div class=\"sk-estimator sk-toggleable\"><input class=\"sk-toggleable__control sk-hidden--visually\" id=\"23ffe97b-2b43-4730-b42c-b49cd892a473\" type=\"checkbox\" ><label class=\"sk-toggleable__label\" for=\"23ffe97b-2b43-4730-b42c-b49cd892a473\">OneHotEncoder</label><div class=\"sk-toggleable__content\"><pre>OneHotEncoder(handle_unknown='ignore')</pre></div></div></div></div></div></div></div></div></div></div><div class=\"sk-item\"><div class=\"sk-estimator sk-toggleable\"><input class=\"sk-toggleable__control sk-hidden--visually\" id=\"ad8ba4ae-39fc-484d-854c-985cc47b7f9f\" type=\"checkbox\" ><label class=\"sk-toggleable__label\" for=\"ad8ba4ae-39fc-484d-854c-985cc47b7f9f\">SMOTE</label><div class=\"sk-toggleable__content\"><pre>SMOTE()</pre></div></div></div></div></div></div></div>"
      ],
      "text/plain": [
       "Pipeline(steps=[('preprocessor',\n",
       "                 ColumnTransformer(transformers=[('num',\n",
       "                                                  Pipeline(steps=[('imputer',\n",
       "                                                                   SimpleImputer()),\n",
       "                                                                  ('scaler',\n",
       "                                                                   StandardScaler())]),\n",
       "                                                  Index(['rally', 'serve', 'speed', 'net.clearance', 'distance.from.sideline',\n",
       "       'depth', 'player.distance.travelled', 'player.impact.depth',\n",
       "       'player.impact.distance.from.center', 'player.depth',\n",
       "       'player.distance.from.c...\n",
       "       'previous.depth', 'opponent.depth', 'opponent.distance.from.center',\n",
       "       'previous.time.to.net'],\n",
       "      dtype='object')),\n",
       "                                                 ('cat',\n",
       "                                                  Pipeline(steps=[('imputer',\n",
       "                                                                   SimpleImputer(strategy='most_frequent')),\n",
       "                                                                  ('onehot',\n",
       "                                                                   OneHotEncoder(handle_unknown='ignore'))]),\n",
       "                                                  Index(['hitpoint', 'outside.sideline', 'outside.baseline', 'same.side',\n",
       "       'previous.hitpoint', 'server.is.impact.player', 'gender'],\n",
       "      dtype='object'))])),\n",
       "                ('classifier', SMOTE())])"
      ]
     },
     "execution_count": 128,
     "metadata": {},
     "output_type": "execute_result"
    }
   ],
   "source": [
    "smotepipe.fit(X_train,y_train)"
   ]
  },
  {
   "cell_type": "code",
   "execution_count": 129,
   "metadata": {},
   "outputs": [],
   "source": [
    "from sklearn.preprocessing import LabelEncoder\n",
    "le = LabelEncoder()\n",
    "le.fit(y_train)\n",
    "\n",
    "y_train = le.transform(y_train)\n",
    "y_test = le.transform(y_test)"
   ]
  },
  {
   "cell_type": "code",
   "execution_count": 130,
   "metadata": {},
   "outputs": [
    {
     "data": {
      "text/plain": [
       "1    43.750000\n",
       "2    33.517857\n",
       "0    22.732143\n",
       "dtype: float64"
      ]
     },
     "execution_count": 130,
     "metadata": {},
     "output_type": "execute_result"
    }
   ],
   "source": [
    "pd.value_counts(y_train)/y_train.size * 100"
   ]
  },
  {
   "cell_type": "code",
   "execution_count": 131,
   "metadata": {},
   "outputs": [],
   "source": [
    "cat_attr = X_train.select_dtypes(include=['category']).columns\n"
   ]
  },
  {
   "cell_type": "code",
   "execution_count": 132,
   "metadata": {},
   "outputs": [],
   "source": [
    "from sklearn.preprocessing import OneHotEncoder\n",
    "enc = OneHotEncoder(drop = 'first')\n",
    "enc.fit(X_train[cat_attr])\n",
    "\n",
    "X_train_ohe=enc.transform(X_train[cat_attr]).toarray()\n",
    "X_test_ohe=enc.transform(X_test[cat_attr]).toarray()"
   ]
  },
  {
   "cell_type": "code",
   "execution_count": 133,
   "metadata": {},
   "outputs": [],
   "source": [
    "num_attr = X_train.select_dtypes(include=['float64', 'int64']).columns"
   ]
  },
  {
   "cell_type": "code",
   "execution_count": 134,
   "metadata": {},
   "outputs": [],
   "source": [
    "from sklearn.preprocessing import StandardScaler\n",
    "scaler = StandardScaler()\n",
    "scaler.fit(X_train[num_attr])\n",
    "\n",
    "X_train_std = scaler.transform(X_train[num_attr])\n",
    "X_test_std = scaler.transform(X_test[num_attr])"
   ]
  },
  {
   "cell_type": "code",
   "execution_count": 135,
   "metadata": {},
   "outputs": [],
   "source": [
    "X_train_con = np.concatenate([X_train_std, X_train_ohe], axis=1)\n",
    "X_test_con = np.concatenate([X_test_std, X_test_ohe], axis=1)"
   ]
  },
  {
   "cell_type": "code",
   "execution_count": 136,
   "metadata": {},
   "outputs": [],
   "source": [
    "from imblearn.over_sampling import SMOTE\n",
    "smote = SMOTE(random_state=123)\n",
    "X_train_sm, y_train_sm = smote.fit_resample(X_train_con, y_train)"
   ]
  },
  {
   "cell_type": "code",
   "execution_count": 137,
   "metadata": {},
   "outputs": [],
   "source": [
    "clf2 = RandomForestClassifier()\n",
    "clf2.fit(X_train_sm, y_train_sm)\n",
    "\n",
    "train_pred_sm = clf2.predict(X_train_sm)\n",
    "test_pred_sm = clf2.predict(X_test_con)"
   ]
  },
  {
   "cell_type": "code",
   "execution_count": 138,
   "metadata": {},
   "outputs": [
    {
     "name": "stdout",
     "output_type": "stream",
     "text": [
      "--Train--\n",
      "Confusion Matrix \n",
      " [[2450    0    0]\n",
      " [   0 2450    0]\n",
      " [   0    0 2450]]\n",
      "Accurcay :  1.0\n",
      "Recall   :  1.0\n",
      "Precision:  1.0\n",
      "--Test--\n",
      "Confusion Matrix \n",
      " [[421 106  18]\n",
      " [131 879  41]\n",
      " [ 32  26 747]]\n",
      "Accurcay :  0.8525614327363599\n",
      "Recall   :  0.8525614327363599\n",
      "Precision:  0.8549504052629635\n"
     ]
    }
   ],
   "source": [
    "print(\"--Train--\")\n",
    "evaluate_model(y_train_sm, train_pred_sm)\n",
    "print(\"--Test--\")\n",
    "evaluate_model(y_test, test_pred_sm)"
   ]
  },
  {
   "cell_type": "code",
   "execution_count": 139,
   "metadata": {},
   "outputs": [],
   "source": [
    "performance_comparison = add_to_perform_compare_df(performance_comparison, 'upsampling', y_train_sm,train_pred_sm, y_test,test_pred_sm)"
   ]
  },
  {
   "cell_type": "code",
   "execution_count": 140,
   "metadata": {},
   "outputs": [
    {
     "data": {
      "text/html": [
       "<div>\n",
       "<style scoped>\n",
       "    .dataframe tbody tr th:only-of-type {\n",
       "        vertical-align: middle;\n",
       "    }\n",
       "\n",
       "    .dataframe tbody tr th {\n",
       "        vertical-align: top;\n",
       "    }\n",
       "\n",
       "    .dataframe thead th {\n",
       "        text-align: right;\n",
       "    }\n",
       "</style>\n",
       "<table border=\"1\" class=\"dataframe\">\n",
       "  <thead>\n",
       "    <tr style=\"text-align: right;\">\n",
       "      <th></th>\n",
       "      <th>Model name</th>\n",
       "      <th>Train accuracy</th>\n",
       "      <th>Train precision</th>\n",
       "      <th>Train recall</th>\n",
       "      <th>Test accuracy</th>\n",
       "      <th>Test precision</th>\n",
       "      <th>Test recall</th>\n",
       "    </tr>\n",
       "  </thead>\n",
       "  <tbody>\n",
       "    <tr>\n",
       "      <th>0</th>\n",
       "      <td>Random Forest</td>\n",
       "      <td>1.000000</td>\n",
       "      <td>1.000000</td>\n",
       "      <td>1.000000</td>\n",
       "      <td>0.858392</td>\n",
       "      <td>0.856103</td>\n",
       "      <td>0.858392</td>\n",
       "    </tr>\n",
       "    <tr>\n",
       "      <th>1</th>\n",
       "      <td>AdaBoostClassifie</td>\n",
       "      <td>0.849643</td>\n",
       "      <td>0.847281</td>\n",
       "      <td>0.849643</td>\n",
       "      <td>0.836318</td>\n",
       "      <td>0.833453</td>\n",
       "      <td>0.836318</td>\n",
       "    </tr>\n",
       "    <tr>\n",
       "      <th>2</th>\n",
       "      <td>GradientBoostingClassifier</td>\n",
       "      <td>0.919286</td>\n",
       "      <td>0.918602</td>\n",
       "      <td>0.919286</td>\n",
       "      <td>0.866306</td>\n",
       "      <td>0.863876</td>\n",
       "      <td>0.866306</td>\n",
       "    </tr>\n",
       "    <tr>\n",
       "      <th>3</th>\n",
       "      <td>Gridsearch</td>\n",
       "      <td>0.860000</td>\n",
       "      <td>0.863081</td>\n",
       "      <td>0.860000</td>\n",
       "      <td>0.842149</td>\n",
       "      <td>0.844453</td>\n",
       "      <td>0.842149</td>\n",
       "    </tr>\n",
       "    <tr>\n",
       "      <th>4</th>\n",
       "      <td>upsampling</td>\n",
       "      <td>1.000000</td>\n",
       "      <td>1.000000</td>\n",
       "      <td>1.000000</td>\n",
       "      <td>0.852561</td>\n",
       "      <td>0.854950</td>\n",
       "      <td>0.852561</td>\n",
       "    </tr>\n",
       "  </tbody>\n",
       "</table>\n",
       "</div>"
      ],
      "text/plain": [
       "                   Model name  Train accuracy  Train precision  Train recall  \\\n",
       "0               Random Forest        1.000000         1.000000      1.000000   \n",
       "1           AdaBoostClassifie        0.849643         0.847281      0.849643   \n",
       "2  GradientBoostingClassifier        0.919286         0.918602      0.919286   \n",
       "3                  Gridsearch        0.860000         0.863081      0.860000   \n",
       "4                  upsampling        1.000000         1.000000      1.000000   \n",
       "\n",
       "   Test accuracy  Test precision  Test recall  \n",
       "0       0.858392        0.856103     0.858392  \n",
       "1       0.836318        0.833453     0.836318  \n",
       "2       0.866306        0.863876     0.866306  \n",
       "3       0.842149        0.844453     0.842149  \n",
       "4       0.852561        0.854950     0.852561  "
      ]
     },
     "execution_count": 140,
     "metadata": {},
     "output_type": "execute_result"
    }
   ],
   "source": [
    "performance_comparison"
   ]
  },
  {
   "cell_type": "code",
   "execution_count": 141,
   "metadata": {},
   "outputs": [],
   "source": [
    "from sklearn.ensemble import VotingClassifier\n",
    "voting_clf = VotingClassifier(estimators = [('Random Forest',RF_pipe),('GradientBoost',gradeboost_pipe),('Adaboost',Adaboost_pipe),('upsampling',clf2),('gridsearch',gridsearch)])\n"
   ]
  },
  {
   "cell_type": "code",
   "execution_count": 142,
   "metadata": {},
   "outputs": [
    {
     "data": {
      "text/html": [
       "<style>#sk-d45b737e-78b6-4665-9855-e9f3e752614b {color: black;background-color: white;}#sk-d45b737e-78b6-4665-9855-e9f3e752614b pre{padding: 0;}#sk-d45b737e-78b6-4665-9855-e9f3e752614b div.sk-toggleable {background-color: white;}#sk-d45b737e-78b6-4665-9855-e9f3e752614b label.sk-toggleable__label {cursor: pointer;display: block;width: 100%;margin-bottom: 0;padding: 0.2em 0.3em;box-sizing: border-box;text-align: center;}#sk-d45b737e-78b6-4665-9855-e9f3e752614b div.sk-toggleable__content {max-height: 0;max-width: 0;overflow: hidden;text-align: left;background-color: #f0f8ff;}#sk-d45b737e-78b6-4665-9855-e9f3e752614b div.sk-toggleable__content pre {margin: 0.2em;color: black;border-radius: 0.25em;background-color: #f0f8ff;}#sk-d45b737e-78b6-4665-9855-e9f3e752614b input.sk-toggleable__control:checked~div.sk-toggleable__content {max-height: 200px;max-width: 100%;overflow: auto;}#sk-d45b737e-78b6-4665-9855-e9f3e752614b div.sk-estimator input.sk-toggleable__control:checked~label.sk-toggleable__label {background-color: #d4ebff;}#sk-d45b737e-78b6-4665-9855-e9f3e752614b div.sk-label input.sk-toggleable__control:checked~label.sk-toggleable__label {background-color: #d4ebff;}#sk-d45b737e-78b6-4665-9855-e9f3e752614b input.sk-hidden--visually {border: 0;clip: rect(1px 1px 1px 1px);clip: rect(1px, 1px, 1px, 1px);height: 1px;margin: -1px;overflow: hidden;padding: 0;position: absolute;width: 1px;}#sk-d45b737e-78b6-4665-9855-e9f3e752614b div.sk-estimator {font-family: monospace;background-color: #f0f8ff;margin: 0.25em 0.25em;border: 1px dotted black;border-radius: 0.25em;box-sizing: border-box;}#sk-d45b737e-78b6-4665-9855-e9f3e752614b div.sk-estimator:hover {background-color: #d4ebff;}#sk-d45b737e-78b6-4665-9855-e9f3e752614b div.sk-parallel-item::after {content: \"\";width: 100%;border-bottom: 1px solid gray;flex-grow: 1;}#sk-d45b737e-78b6-4665-9855-e9f3e752614b div.sk-label:hover label.sk-toggleable__label {background-color: #d4ebff;}#sk-d45b737e-78b6-4665-9855-e9f3e752614b div.sk-serial::before {content: \"\";position: absolute;border-left: 1px solid gray;box-sizing: border-box;top: 2em;bottom: 0;left: 50%;}#sk-d45b737e-78b6-4665-9855-e9f3e752614b div.sk-serial {display: flex;flex-direction: column;align-items: center;background-color: white;}#sk-d45b737e-78b6-4665-9855-e9f3e752614b div.sk-item {z-index: 1;}#sk-d45b737e-78b6-4665-9855-e9f3e752614b div.sk-parallel {display: flex;align-items: stretch;justify-content: center;background-color: white;}#sk-d45b737e-78b6-4665-9855-e9f3e752614b div.sk-parallel-item {display: flex;flex-direction: column;position: relative;background-color: white;}#sk-d45b737e-78b6-4665-9855-e9f3e752614b div.sk-parallel-item:first-child::after {align-self: flex-end;width: 50%;}#sk-d45b737e-78b6-4665-9855-e9f3e752614b div.sk-parallel-item:last-child::after {align-self: flex-start;width: 50%;}#sk-d45b737e-78b6-4665-9855-e9f3e752614b div.sk-parallel-item:only-child::after {width: 0;}#sk-d45b737e-78b6-4665-9855-e9f3e752614b div.sk-dashed-wrapped {border: 1px dashed gray;margin: 0.2em;box-sizing: border-box;padding-bottom: 0.1em;background-color: white;position: relative;}#sk-d45b737e-78b6-4665-9855-e9f3e752614b div.sk-label label {font-family: monospace;font-weight: bold;background-color: white;display: inline-block;line-height: 1.2em;}#sk-d45b737e-78b6-4665-9855-e9f3e752614b div.sk-label-container {position: relative;z-index: 2;text-align: center;}#sk-d45b737e-78b6-4665-9855-e9f3e752614b div.sk-container {display: inline-block;position: relative;}</style><div id=\"sk-d45b737e-78b6-4665-9855-e9f3e752614b\" class\"sk-top-container\"><div class=\"sk-container\"><div class=\"sk-item sk-dashed-wrapped\"><div class=\"sk-label-container\"><div class=\"sk-label sk-toggleable\"><input class=\"sk-toggleable__control sk-hidden--visually\" id=\"80e0ef61-a0e4-4a75-8d58-b843aa1aef26\" type=\"checkbox\" ><label class=\"sk-toggleable__label\" for=\"80e0ef61-a0e4-4a75-8d58-b843aa1aef26\">VotingClassifier</label><div class=\"sk-toggleable__content\"><pre>VotingClassifier(estimators=[('Random Forest',\n",
       "                              Pipeline(steps=[('preprocessor',\n",
       "                                               ColumnTransformer(transformers=[('num',\n",
       "                                                                                Pipeline(steps=[('imputer',\n",
       "                                                                                                 SimpleImputer()),\n",
       "                                                                                                ('scaler',\n",
       "                                                                                                 StandardScaler())]),\n",
       "                                                                                Index(['rally', 'serve', 'speed', 'net.clearance', 'distance.from.sideline',\n",
       "       'depth', 'player.distance.travelled', 'player.impact.depth',\n",
       "       'player.impact.distance.from.c...\n",
       "                                                                                                 OneHotEncoder(handle_unknown='ignore'))]),\n",
       "                                                                                Index(['hitpoint', 'outside.sideline', 'outside.baseline', 'same.side',\n",
       "       'previous.hitpoint', 'server.is.impact.player', 'gender'],\n",
       "      dtype='object'))])),\n",
       "                                              ('classifier',\n",
       "                                               GridSearchCV(cv=2,\n",
       "                                                            estimator=RandomForestClassifier(),\n",
       "                                                            param_grid={'max_depth': [1,\n",
       "                                                                                      5],\n",
       "                                                                        'max_features': [3,\n",
       "                                                                                         5],\n",
       "                                                                        'min_samples_leaf': [1,\n",
       "                                                                                             2,\n",
       "                                                                                             3],\n",
       "                                                                        'n_estimators': [50,\n",
       "                                                                                         100]}))]))])</pre></div></div></div><div class=\"sk-parallel\"><div class=\"sk-parallel-item\"><div class=\"sk-item\"><div class=\"sk-label-container\"><div class=\"sk-label sk-toggleable\"><label>Random Forest</label></div></div><div class=\"sk-serial\"><div class=\"sk-item\"><div class=\"sk-serial\"><div class=\"sk-item sk-dashed-wrapped\"><div class=\"sk-label-container\"><div class=\"sk-label sk-toggleable\"><input class=\"sk-toggleable__control sk-hidden--visually\" id=\"f3c219af-312b-40a4-954a-fadd5d39318c\" type=\"checkbox\" ><label class=\"sk-toggleable__label\" for=\"f3c219af-312b-40a4-954a-fadd5d39318c\">preprocessor: ColumnTransformer</label><div class=\"sk-toggleable__content\"><pre>ColumnTransformer(transformers=[('num',\n",
       "                                 Pipeline(steps=[('imputer', SimpleImputer()),\n",
       "                                                 ('scaler', StandardScaler())]),\n",
       "                                 Index(['rally', 'serve', 'speed', 'net.clearance', 'distance.from.sideline',\n",
       "       'depth', 'player.distance.travelled', 'player.impact.depth',\n",
       "       'player.impact.distance.from.center', 'player.depth',\n",
       "       'player.distance.from.center', 'previous.speed',\n",
       "       'previou...\n",
       "       'previous.depth', 'opponent.depth', 'opponent.distance.from.center',\n",
       "       'previous.time.to.net'],\n",
       "      dtype='object')),\n",
       "                                ('cat',\n",
       "                                 Pipeline(steps=[('imputer',\n",
       "                                                  SimpleImputer(strategy='most_frequent')),\n",
       "                                                 ('onehot',\n",
       "                                                  OneHotEncoder(handle_unknown='ignore'))]),\n",
       "                                 Index(['hitpoint', 'outside.sideline', 'outside.baseline', 'same.side',\n",
       "       'previous.hitpoint', 'server.is.impact.player', 'gender'],\n",
       "      dtype='object'))])</pre></div></div></div><div class=\"sk-parallel\"><div class=\"sk-parallel-item\"><div class=\"sk-item\"><div class=\"sk-label-container\"><div class=\"sk-label sk-toggleable\"><input class=\"sk-toggleable__control sk-hidden--visually\" id=\"ea58b6d0-2882-4ae9-a46b-0d6a615a90e8\" type=\"checkbox\" ><label class=\"sk-toggleable__label\" for=\"ea58b6d0-2882-4ae9-a46b-0d6a615a90e8\">num</label><div class=\"sk-toggleable__content\"><pre>Index(['rally', 'serve', 'speed', 'net.clearance', 'distance.from.sideline',\n",
       "       'depth', 'player.distance.travelled', 'player.impact.depth',\n",
       "       'player.impact.distance.from.center', 'player.depth',\n",
       "       'player.distance.from.center', 'previous.speed',\n",
       "       'previous.net.clearance', 'previous.distance.from.sideline',\n",
       "       'previous.depth', 'opponent.depth', 'opponent.distance.from.center',\n",
       "       'previous.time.to.net'],\n",
       "      dtype='object')</pre></div></div></div><div class=\"sk-serial\"><div class=\"sk-item\"><div class=\"sk-serial\"><div class=\"sk-item\"><div class=\"sk-estimator sk-toggleable\"><input class=\"sk-toggleable__control sk-hidden--visually\" id=\"2719a998-a5fb-48b6-9833-cc73c61febba\" type=\"checkbox\" ><label class=\"sk-toggleable__label\" for=\"2719a998-a5fb-48b6-9833-cc73c61febba\">SimpleImputer</label><div class=\"sk-toggleable__content\"><pre>SimpleImputer()</pre></div></div></div><div class=\"sk-item\"><div class=\"sk-estimator sk-toggleable\"><input class=\"sk-toggleable__control sk-hidden--visually\" id=\"c85e39fb-8d67-4c58-9a4b-69f2c14b2987\" type=\"checkbox\" ><label class=\"sk-toggleable__label\" for=\"c85e39fb-8d67-4c58-9a4b-69f2c14b2987\">StandardScaler</label><div class=\"sk-toggleable__content\"><pre>StandardScaler()</pre></div></div></div></div></div></div></div></div><div class=\"sk-parallel-item\"><div class=\"sk-item\"><div class=\"sk-label-container\"><div class=\"sk-label sk-toggleable\"><input class=\"sk-toggleable__control sk-hidden--visually\" id=\"721e71fd-8d1b-46c0-a7ac-ab3e5f1582b9\" type=\"checkbox\" ><label class=\"sk-toggleable__label\" for=\"721e71fd-8d1b-46c0-a7ac-ab3e5f1582b9\">cat</label><div class=\"sk-toggleable__content\"><pre>Index(['hitpoint', 'outside.sideline', 'outside.baseline', 'same.side',\n",
       "       'previous.hitpoint', 'server.is.impact.player', 'gender'],\n",
       "      dtype='object')</pre></div></div></div><div class=\"sk-serial\"><div class=\"sk-item\"><div class=\"sk-serial\"><div class=\"sk-item\"><div class=\"sk-estimator sk-toggleable\"><input class=\"sk-toggleable__control sk-hidden--visually\" id=\"3c874866-b47e-4a33-bfd9-d511069b6a5b\" type=\"checkbox\" ><label class=\"sk-toggleable__label\" for=\"3c874866-b47e-4a33-bfd9-d511069b6a5b\">SimpleImputer</label><div class=\"sk-toggleable__content\"><pre>SimpleImputer(strategy='most_frequent')</pre></div></div></div><div class=\"sk-item\"><div class=\"sk-estimator sk-toggleable\"><input class=\"sk-toggleable__control sk-hidden--visually\" id=\"b6447458-1631-46bb-9cfb-ba85623e8fbe\" type=\"checkbox\" ><label class=\"sk-toggleable__label\" for=\"b6447458-1631-46bb-9cfb-ba85623e8fbe\">OneHotEncoder</label><div class=\"sk-toggleable__content\"><pre>OneHotEncoder(handle_unknown='ignore')</pre></div></div></div></div></div></div></div></div></div></div><div class=\"sk-item\"><div class=\"sk-estimator sk-toggleable\"><input class=\"sk-toggleable__control sk-hidden--visually\" id=\"f9fea2f2-f9d2-491e-a9c6-074352c23b06\" type=\"checkbox\" ><label class=\"sk-toggleable__label\" for=\"f9fea2f2-f9d2-491e-a9c6-074352c23b06\">RandomForestClassifier</label><div class=\"sk-toggleable__content\"><pre>RandomForestClassifier()</pre></div></div></div></div></div></div></div></div><div class=\"sk-parallel-item\"><div class=\"sk-item\"><div class=\"sk-label-container\"><div class=\"sk-label sk-toggleable\"><label>GradientBoost</label></div></div><div class=\"sk-serial\"><div class=\"sk-item\"><div class=\"sk-serial\"><div class=\"sk-item sk-dashed-wrapped\"><div class=\"sk-label-container\"><div class=\"sk-label sk-toggleable\"><input class=\"sk-toggleable__control sk-hidden--visually\" id=\"6a05a61f-f670-4b5e-9d83-ac56c76fb2b8\" type=\"checkbox\" ><label class=\"sk-toggleable__label\" for=\"6a05a61f-f670-4b5e-9d83-ac56c76fb2b8\">preprocessor: ColumnTransformer</label><div class=\"sk-toggleable__content\"><pre>ColumnTransformer(transformers=[('num',\n",
       "                                 Pipeline(steps=[('imputer', SimpleImputer()),\n",
       "                                                 ('scaler', StandardScaler())]),\n",
       "                                 Index(['rally', 'serve', 'speed', 'net.clearance', 'distance.from.sideline',\n",
       "       'depth', 'player.distance.travelled', 'player.impact.depth',\n",
       "       'player.impact.distance.from.center', 'player.depth',\n",
       "       'player.distance.from.center', 'previous.speed',\n",
       "       'previou...\n",
       "       'previous.depth', 'opponent.depth', 'opponent.distance.from.center',\n",
       "       'previous.time.to.net'],\n",
       "      dtype='object')),\n",
       "                                ('cat',\n",
       "                                 Pipeline(steps=[('imputer',\n",
       "                                                  SimpleImputer(strategy='most_frequent')),\n",
       "                                                 ('onehot',\n",
       "                                                  OneHotEncoder(handle_unknown='ignore'))]),\n",
       "                                 Index(['hitpoint', 'outside.sideline', 'outside.baseline', 'same.side',\n",
       "       'previous.hitpoint', 'server.is.impact.player', 'gender'],\n",
       "      dtype='object'))])</pre></div></div></div><div class=\"sk-parallel\"><div class=\"sk-parallel-item\"><div class=\"sk-item\"><div class=\"sk-label-container\"><div class=\"sk-label sk-toggleable\"><input class=\"sk-toggleable__control sk-hidden--visually\" id=\"ae5013fe-b4f1-42d9-a2c4-e97524e89102\" type=\"checkbox\" ><label class=\"sk-toggleable__label\" for=\"ae5013fe-b4f1-42d9-a2c4-e97524e89102\">num</label><div class=\"sk-toggleable__content\"><pre>Index(['rally', 'serve', 'speed', 'net.clearance', 'distance.from.sideline',\n",
       "       'depth', 'player.distance.travelled', 'player.impact.depth',\n",
       "       'player.impact.distance.from.center', 'player.depth',\n",
       "       'player.distance.from.center', 'previous.speed',\n",
       "       'previous.net.clearance', 'previous.distance.from.sideline',\n",
       "       'previous.depth', 'opponent.depth', 'opponent.distance.from.center',\n",
       "       'previous.time.to.net'],\n",
       "      dtype='object')</pre></div></div></div><div class=\"sk-serial\"><div class=\"sk-item\"><div class=\"sk-serial\"><div class=\"sk-item\"><div class=\"sk-estimator sk-toggleable\"><input class=\"sk-toggleable__control sk-hidden--visually\" id=\"a070820f-4754-4ef8-8fb5-a8697e9f2fa8\" type=\"checkbox\" ><label class=\"sk-toggleable__label\" for=\"a070820f-4754-4ef8-8fb5-a8697e9f2fa8\">SimpleImputer</label><div class=\"sk-toggleable__content\"><pre>SimpleImputer()</pre></div></div></div><div class=\"sk-item\"><div class=\"sk-estimator sk-toggleable\"><input class=\"sk-toggleable__control sk-hidden--visually\" id=\"c539b4a5-8d74-410c-acd3-f574cd44f32f\" type=\"checkbox\" ><label class=\"sk-toggleable__label\" for=\"c539b4a5-8d74-410c-acd3-f574cd44f32f\">StandardScaler</label><div class=\"sk-toggleable__content\"><pre>StandardScaler()</pre></div></div></div></div></div></div></div></div><div class=\"sk-parallel-item\"><div class=\"sk-item\"><div class=\"sk-label-container\"><div class=\"sk-label sk-toggleable\"><input class=\"sk-toggleable__control sk-hidden--visually\" id=\"dbdecfca-c147-4ff2-97e2-a97130883240\" type=\"checkbox\" ><label class=\"sk-toggleable__label\" for=\"dbdecfca-c147-4ff2-97e2-a97130883240\">cat</label><div class=\"sk-toggleable__content\"><pre>Index(['hitpoint', 'outside.sideline', 'outside.baseline', 'same.side',\n",
       "       'previous.hitpoint', 'server.is.impact.player', 'gender'],\n",
       "      dtype='object')</pre></div></div></div><div class=\"sk-serial\"><div class=\"sk-item\"><div class=\"sk-serial\"><div class=\"sk-item\"><div class=\"sk-estimator sk-toggleable\"><input class=\"sk-toggleable__control sk-hidden--visually\" id=\"28d18c2d-73fc-45d3-9e0b-da5e8702986f\" type=\"checkbox\" ><label class=\"sk-toggleable__label\" for=\"28d18c2d-73fc-45d3-9e0b-da5e8702986f\">SimpleImputer</label><div class=\"sk-toggleable__content\"><pre>SimpleImputer(strategy='most_frequent')</pre></div></div></div><div class=\"sk-item\"><div class=\"sk-estimator sk-toggleable\"><input class=\"sk-toggleable__control sk-hidden--visually\" id=\"0f244720-16ab-4cc0-ad8e-cdf4faf0b8c9\" type=\"checkbox\" ><label class=\"sk-toggleable__label\" for=\"0f244720-16ab-4cc0-ad8e-cdf4faf0b8c9\">OneHotEncoder</label><div class=\"sk-toggleable__content\"><pre>OneHotEncoder(handle_unknown='ignore')</pre></div></div></div></div></div></div></div></div></div></div><div class=\"sk-item\"><div class=\"sk-estimator sk-toggleable\"><input class=\"sk-toggleable__control sk-hidden--visually\" id=\"a947bd2e-7c85-46d1-a330-cbea1f23feeb\" type=\"checkbox\" ><label class=\"sk-toggleable__label\" for=\"a947bd2e-7c85-46d1-a330-cbea1f23feeb\">GradientBoostingClassifier</label><div class=\"sk-toggleable__content\"><pre>GradientBoostingClassifier()</pre></div></div></div></div></div></div></div></div><div class=\"sk-parallel-item\"><div class=\"sk-item\"><div class=\"sk-label-container\"><div class=\"sk-label sk-toggleable\"><label>Adaboost</label></div></div><div class=\"sk-serial\"><div class=\"sk-item\"><div class=\"sk-serial\"><div class=\"sk-item sk-dashed-wrapped\"><div class=\"sk-label-container\"><div class=\"sk-label sk-toggleable\"><input class=\"sk-toggleable__control sk-hidden--visually\" id=\"5158f871-7e10-4481-9dc1-c9afb0f73cc8\" type=\"checkbox\" ><label class=\"sk-toggleable__label\" for=\"5158f871-7e10-4481-9dc1-c9afb0f73cc8\">preprocessor: ColumnTransformer</label><div class=\"sk-toggleable__content\"><pre>ColumnTransformer(transformers=[('num',\n",
       "                                 Pipeline(steps=[('imputer', SimpleImputer()),\n",
       "                                                 ('scaler', StandardScaler())]),\n",
       "                                 Index(['rally', 'serve', 'speed', 'net.clearance', 'distance.from.sideline',\n",
       "       'depth', 'player.distance.travelled', 'player.impact.depth',\n",
       "       'player.impact.distance.from.center', 'player.depth',\n",
       "       'player.distance.from.center', 'previous.speed',\n",
       "       'previou...\n",
       "       'previous.depth', 'opponent.depth', 'opponent.distance.from.center',\n",
       "       'previous.time.to.net'],\n",
       "      dtype='object')),\n",
       "                                ('cat',\n",
       "                                 Pipeline(steps=[('imputer',\n",
       "                                                  SimpleImputer(strategy='most_frequent')),\n",
       "                                                 ('onehot',\n",
       "                                                  OneHotEncoder(handle_unknown='ignore'))]),\n",
       "                                 Index(['hitpoint', 'outside.sideline', 'outside.baseline', 'same.side',\n",
       "       'previous.hitpoint', 'server.is.impact.player', 'gender'],\n",
       "      dtype='object'))])</pre></div></div></div><div class=\"sk-parallel\"><div class=\"sk-parallel-item\"><div class=\"sk-item\"><div class=\"sk-label-container\"><div class=\"sk-label sk-toggleable\"><input class=\"sk-toggleable__control sk-hidden--visually\" id=\"d6234423-01fd-4f2d-a54c-2fdf0a7dd910\" type=\"checkbox\" ><label class=\"sk-toggleable__label\" for=\"d6234423-01fd-4f2d-a54c-2fdf0a7dd910\">num</label><div class=\"sk-toggleable__content\"><pre>Index(['rally', 'serve', 'speed', 'net.clearance', 'distance.from.sideline',\n",
       "       'depth', 'player.distance.travelled', 'player.impact.depth',\n",
       "       'player.impact.distance.from.center', 'player.depth',\n",
       "       'player.distance.from.center', 'previous.speed',\n",
       "       'previous.net.clearance', 'previous.distance.from.sideline',\n",
       "       'previous.depth', 'opponent.depth', 'opponent.distance.from.center',\n",
       "       'previous.time.to.net'],\n",
       "      dtype='object')</pre></div></div></div><div class=\"sk-serial\"><div class=\"sk-item\"><div class=\"sk-serial\"><div class=\"sk-item\"><div class=\"sk-estimator sk-toggleable\"><input class=\"sk-toggleable__control sk-hidden--visually\" id=\"510009a4-9c40-4d60-a154-463e2e6dd381\" type=\"checkbox\" ><label class=\"sk-toggleable__label\" for=\"510009a4-9c40-4d60-a154-463e2e6dd381\">SimpleImputer</label><div class=\"sk-toggleable__content\"><pre>SimpleImputer()</pre></div></div></div><div class=\"sk-item\"><div class=\"sk-estimator sk-toggleable\"><input class=\"sk-toggleable__control sk-hidden--visually\" id=\"c7960c79-6260-41e4-9441-6d9d0eaaee91\" type=\"checkbox\" ><label class=\"sk-toggleable__label\" for=\"c7960c79-6260-41e4-9441-6d9d0eaaee91\">StandardScaler</label><div class=\"sk-toggleable__content\"><pre>StandardScaler()</pre></div></div></div></div></div></div></div></div><div class=\"sk-parallel-item\"><div class=\"sk-item\"><div class=\"sk-label-container\"><div class=\"sk-label sk-toggleable\"><input class=\"sk-toggleable__control sk-hidden--visually\" id=\"104bacc9-1fd4-42d3-be11-ebe0d4e5dcb1\" type=\"checkbox\" ><label class=\"sk-toggleable__label\" for=\"104bacc9-1fd4-42d3-be11-ebe0d4e5dcb1\">cat</label><div class=\"sk-toggleable__content\"><pre>Index(['hitpoint', 'outside.sideline', 'outside.baseline', 'same.side',\n",
       "       'previous.hitpoint', 'server.is.impact.player', 'gender'],\n",
       "      dtype='object')</pre></div></div></div><div class=\"sk-serial\"><div class=\"sk-item\"><div class=\"sk-serial\"><div class=\"sk-item\"><div class=\"sk-estimator sk-toggleable\"><input class=\"sk-toggleable__control sk-hidden--visually\" id=\"1d41f50a-b74c-4401-b74d-61fd683cd55e\" type=\"checkbox\" ><label class=\"sk-toggleable__label\" for=\"1d41f50a-b74c-4401-b74d-61fd683cd55e\">SimpleImputer</label><div class=\"sk-toggleable__content\"><pre>SimpleImputer(strategy='most_frequent')</pre></div></div></div><div class=\"sk-item\"><div class=\"sk-estimator sk-toggleable\"><input class=\"sk-toggleable__control sk-hidden--visually\" id=\"e9895d1b-3b67-424a-be6b-d6091e2a49fd\" type=\"checkbox\" ><label class=\"sk-toggleable__label\" for=\"e9895d1b-3b67-424a-be6b-d6091e2a49fd\">OneHotEncoder</label><div class=\"sk-toggleable__content\"><pre>OneHotEncoder(handle_unknown='ignore')</pre></div></div></div></div></div></div></div></div></div></div><div class=\"sk-item\"><div class=\"sk-estimator sk-toggleable\"><input class=\"sk-toggleable__control sk-hidden--visually\" id=\"faaf4f3b-82be-4078-a8eb-01fef9778d6d\" type=\"checkbox\" ><label class=\"sk-toggleable__label\" for=\"faaf4f3b-82be-4078-a8eb-01fef9778d6d\">AdaBoostClassifier</label><div class=\"sk-toggleable__content\"><pre>AdaBoostClassifier()</pre></div></div></div></div></div></div></div></div><div class=\"sk-parallel-item\"><div class=\"sk-item\"><div class=\"sk-label-container\"><div class=\"sk-label sk-toggleable\"><label>upsampling</label></div></div><div class=\"sk-serial\"><div class=\"sk-item\"><div class=\"sk-estimator sk-toggleable\"><input class=\"sk-toggleable__control sk-hidden--visually\" id=\"e6749726-be65-4bd0-bb36-ca01c3410497\" type=\"checkbox\" ><label class=\"sk-toggleable__label\" for=\"e6749726-be65-4bd0-bb36-ca01c3410497\">RandomForestClassifier</label><div class=\"sk-toggleable__content\"><pre>RandomForestClassifier()</pre></div></div></div></div></div></div><div class=\"sk-parallel-item\"><div class=\"sk-item\"><div class=\"sk-label-container\"><div class=\"sk-label sk-toggleable\"><label>gridsearch</label></div></div><div class=\"sk-serial\"><div class=\"sk-item\"><div class=\"sk-serial\"><div class=\"sk-item sk-dashed-wrapped\"><div class=\"sk-label-container\"><div class=\"sk-label sk-toggleable\"><input class=\"sk-toggleable__control sk-hidden--visually\" id=\"067c6fdc-b25f-4db7-97ea-90c6bce1a29a\" type=\"checkbox\" ><label class=\"sk-toggleable__label\" for=\"067c6fdc-b25f-4db7-97ea-90c6bce1a29a\">preprocessor: ColumnTransformer</label><div class=\"sk-toggleable__content\"><pre>ColumnTransformer(transformers=[('num',\n",
       "                                 Pipeline(steps=[('imputer', SimpleImputer()),\n",
       "                                                 ('scaler', StandardScaler())]),\n",
       "                                 Index(['rally', 'serve', 'speed', 'net.clearance', 'distance.from.sideline',\n",
       "       'depth', 'player.distance.travelled', 'player.impact.depth',\n",
       "       'player.impact.distance.from.center', 'player.depth',\n",
       "       'player.distance.from.center', 'previous.speed',\n",
       "       'previou...\n",
       "       'previous.depth', 'opponent.depth', 'opponent.distance.from.center',\n",
       "       'previous.time.to.net'],\n",
       "      dtype='object')),\n",
       "                                ('cat',\n",
       "                                 Pipeline(steps=[('imputer',\n",
       "                                                  SimpleImputer(strategy='most_frequent')),\n",
       "                                                 ('onehot',\n",
       "                                                  OneHotEncoder(handle_unknown='ignore'))]),\n",
       "                                 Index(['hitpoint', 'outside.sideline', 'outside.baseline', 'same.side',\n",
       "       'previous.hitpoint', 'server.is.impact.player', 'gender'],\n",
       "      dtype='object'))])</pre></div></div></div><div class=\"sk-parallel\"><div class=\"sk-parallel-item\"><div class=\"sk-item\"><div class=\"sk-label-container\"><div class=\"sk-label sk-toggleable\"><input class=\"sk-toggleable__control sk-hidden--visually\" id=\"a3e05e68-fdf2-4687-b241-910cbae5d492\" type=\"checkbox\" ><label class=\"sk-toggleable__label\" for=\"a3e05e68-fdf2-4687-b241-910cbae5d492\">num</label><div class=\"sk-toggleable__content\"><pre>Index(['rally', 'serve', 'speed', 'net.clearance', 'distance.from.sideline',\n",
       "       'depth', 'player.distance.travelled', 'player.impact.depth',\n",
       "       'player.impact.distance.from.center', 'player.depth',\n",
       "       'player.distance.from.center', 'previous.speed',\n",
       "       'previous.net.clearance', 'previous.distance.from.sideline',\n",
       "       'previous.depth', 'opponent.depth', 'opponent.distance.from.center',\n",
       "       'previous.time.to.net'],\n",
       "      dtype='object')</pre></div></div></div><div class=\"sk-serial\"><div class=\"sk-item\"><div class=\"sk-serial\"><div class=\"sk-item\"><div class=\"sk-estimator sk-toggleable\"><input class=\"sk-toggleable__control sk-hidden--visually\" id=\"0d0f1145-4cc0-4fc1-a65c-5d5d10759776\" type=\"checkbox\" ><label class=\"sk-toggleable__label\" for=\"0d0f1145-4cc0-4fc1-a65c-5d5d10759776\">SimpleImputer</label><div class=\"sk-toggleable__content\"><pre>SimpleImputer()</pre></div></div></div><div class=\"sk-item\"><div class=\"sk-estimator sk-toggleable\"><input class=\"sk-toggleable__control sk-hidden--visually\" id=\"f4e42b9a-8f5a-409e-bad3-d425c7fbe2d1\" type=\"checkbox\" ><label class=\"sk-toggleable__label\" for=\"f4e42b9a-8f5a-409e-bad3-d425c7fbe2d1\">StandardScaler</label><div class=\"sk-toggleable__content\"><pre>StandardScaler()</pre></div></div></div></div></div></div></div></div><div class=\"sk-parallel-item\"><div class=\"sk-item\"><div class=\"sk-label-container\"><div class=\"sk-label sk-toggleable\"><input class=\"sk-toggleable__control sk-hidden--visually\" id=\"581f75c1-8e72-43ec-8531-771dfa425cfa\" type=\"checkbox\" ><label class=\"sk-toggleable__label\" for=\"581f75c1-8e72-43ec-8531-771dfa425cfa\">cat</label><div class=\"sk-toggleable__content\"><pre>Index(['hitpoint', 'outside.sideline', 'outside.baseline', 'same.side',\n",
       "       'previous.hitpoint', 'server.is.impact.player', 'gender'],\n",
       "      dtype='object')</pre></div></div></div><div class=\"sk-serial\"><div class=\"sk-item\"><div class=\"sk-serial\"><div class=\"sk-item\"><div class=\"sk-estimator sk-toggleable\"><input class=\"sk-toggleable__control sk-hidden--visually\" id=\"cda034d3-fea6-4cb1-a551-4c9a0b18df81\" type=\"checkbox\" ><label class=\"sk-toggleable__label\" for=\"cda034d3-fea6-4cb1-a551-4c9a0b18df81\">SimpleImputer</label><div class=\"sk-toggleable__content\"><pre>SimpleImputer(strategy='most_frequent')</pre></div></div></div><div class=\"sk-item\"><div class=\"sk-estimator sk-toggleable\"><input class=\"sk-toggleable__control sk-hidden--visually\" id=\"96312c7f-69e8-4dda-ad83-58a12b15501a\" type=\"checkbox\" ><label class=\"sk-toggleable__label\" for=\"96312c7f-69e8-4dda-ad83-58a12b15501a\">OneHotEncoder</label><div class=\"sk-toggleable__content\"><pre>OneHotEncoder(handle_unknown='ignore')</pre></div></div></div></div></div></div></div></div></div></div><div class=\"sk-item sk-dashed-wrapped\"><div class=\"sk-label-container\"><div class=\"sk-label sk-toggleable\"><input class=\"sk-toggleable__control sk-hidden--visually\" id=\"f0098b44-8ec4-4be5-9499-2dea42e2fe57\" type=\"checkbox\" ><label class=\"sk-toggleable__label\" for=\"f0098b44-8ec4-4be5-9499-2dea42e2fe57\">classifier: GridSearchCV</label><div class=\"sk-toggleable__content\"><pre>GridSearchCV(cv=2, estimator=RandomForestClassifier(),\n",
       "             param_grid={'max_depth': [1, 5], 'max_features': [3, 5],\n",
       "                         'min_samples_leaf': [1, 2, 3],\n",
       "                         'n_estimators': [50, 100]})</pre></div></div></div><div class=\"sk-parallel\"><div class=\"sk-parallel-item\"><div class=\"sk-item\"><div class=\"sk-serial\"><div class=\"sk-item\"><div class=\"sk-estimator sk-toggleable\"><input class=\"sk-toggleable__control sk-hidden--visually\" id=\"364ac75e-f489-4065-b6ad-1d7e5c07e4e9\" type=\"checkbox\" ><label class=\"sk-toggleable__label\" for=\"364ac75e-f489-4065-b6ad-1d7e5c07e4e9\">RandomForestClassifier</label><div class=\"sk-toggleable__content\"><pre>RandomForestClassifier()</pre></div></div></div></div></div></div></div></div></div></div></div></div></div></div></div></div></div>"
      ],
      "text/plain": [
       "VotingClassifier(estimators=[('Random Forest',\n",
       "                              Pipeline(steps=[('preprocessor',\n",
       "                                               ColumnTransformer(transformers=[('num',\n",
       "                                                                                Pipeline(steps=[('imputer',\n",
       "                                                                                                 SimpleImputer()),\n",
       "                                                                                                ('scaler',\n",
       "                                                                                                 StandardScaler())]),\n",
       "                                                                                Index(['rally', 'serve', 'speed', 'net.clearance', 'distance.from.sideline',\n",
       "       'depth', 'player.distance.travelled', 'player.impact.depth',\n",
       "       'player.impact.distance.from.c...\n",
       "                                                                                                 OneHotEncoder(handle_unknown='ignore'))]),\n",
       "                                                                                Index(['hitpoint', 'outside.sideline', 'outside.baseline', 'same.side',\n",
       "       'previous.hitpoint', 'server.is.impact.player', 'gender'],\n",
       "      dtype='object'))])),\n",
       "                                              ('classifier',\n",
       "                                               GridSearchCV(cv=2,\n",
       "                                                            estimator=RandomForestClassifier(),\n",
       "                                                            param_grid={'max_depth': [1,\n",
       "                                                                                      5],\n",
       "                                                                        'max_features': [3,\n",
       "                                                                                         5],\n",
       "                                                                        'min_samples_leaf': [1,\n",
       "                                                                                             2,\n",
       "                                                                                             3],\n",
       "                                                                        'n_estimators': [50,\n",
       "                                                                                         100]}))]))])"
      ]
     },
     "execution_count": 142,
     "metadata": {},
     "output_type": "execute_result"
    }
   ],
   "source": [
    "voting_clf"
   ]
  },
  {
   "cell_type": "code",
   "execution_count": 143,
   "metadata": {},
   "outputs": [
    {
     "data": {
      "text/plain": [
       "(array([0, 1, 2]), array([2450, 2450, 2450]))"
      ]
     },
     "execution_count": 143,
     "metadata": {},
     "output_type": "execute_result"
    }
   ],
   "source": [
    "np.unique(y_train, return_counts= True)\n",
    "np.unique(y_train_sm, return_counts= True)"
   ]
  },
  {
   "cell_type": "code",
   "execution_count": 147,
   "metadata": {},
   "outputs": [
    {
     "data": {
      "text/html": [
       "<div>\n",
       "<style scoped>\n",
       "    .dataframe tbody tr th:only-of-type {\n",
       "        vertical-align: middle;\n",
       "    }\n",
       "\n",
       "    .dataframe tbody tr th {\n",
       "        vertical-align: top;\n",
       "    }\n",
       "\n",
       "    .dataframe thead th {\n",
       "        text-align: right;\n",
       "    }\n",
       "</style>\n",
       "<table border=\"1\" class=\"dataframe\">\n",
       "  <thead>\n",
       "    <tr style=\"text-align: right;\">\n",
       "      <th></th>\n",
       "      <th>Model name</th>\n",
       "      <th>Train accuracy</th>\n",
       "      <th>Train precision</th>\n",
       "      <th>Train recall</th>\n",
       "      <th>Test accuracy</th>\n",
       "      <th>Test precision</th>\n",
       "      <th>Test recall</th>\n",
       "    </tr>\n",
       "  </thead>\n",
       "  <tbody>\n",
       "    <tr>\n",
       "      <th>0</th>\n",
       "      <td>Random Forest</td>\n",
       "      <td>1.000000</td>\n",
       "      <td>1.000000</td>\n",
       "      <td>1.000000</td>\n",
       "      <td>0.858392</td>\n",
       "      <td>0.856103</td>\n",
       "      <td>0.858392</td>\n",
       "    </tr>\n",
       "    <tr>\n",
       "      <th>1</th>\n",
       "      <td>AdaBoostClassifie</td>\n",
       "      <td>0.849643</td>\n",
       "      <td>0.847281</td>\n",
       "      <td>0.849643</td>\n",
       "      <td>0.836318</td>\n",
       "      <td>0.833453</td>\n",
       "      <td>0.836318</td>\n",
       "    </tr>\n",
       "    <tr>\n",
       "      <th>2</th>\n",
       "      <td>GradientBoostingClassifier</td>\n",
       "      <td>0.919286</td>\n",
       "      <td>0.918602</td>\n",
       "      <td>0.919286</td>\n",
       "      <td>0.866306</td>\n",
       "      <td>0.863876</td>\n",
       "      <td>0.866306</td>\n",
       "    </tr>\n",
       "    <tr>\n",
       "      <th>3</th>\n",
       "      <td>Gridsearch</td>\n",
       "      <td>0.860000</td>\n",
       "      <td>0.863081</td>\n",
       "      <td>0.860000</td>\n",
       "      <td>0.842149</td>\n",
       "      <td>0.844453</td>\n",
       "      <td>0.842149</td>\n",
       "    </tr>\n",
       "    <tr>\n",
       "      <th>4</th>\n",
       "      <td>upsampling</td>\n",
       "      <td>1.000000</td>\n",
       "      <td>1.000000</td>\n",
       "      <td>1.000000</td>\n",
       "      <td>0.852561</td>\n",
       "      <td>0.854950</td>\n",
       "      <td>0.852561</td>\n",
       "    </tr>\n",
       "    <tr>\n",
       "      <th>5</th>\n",
       "      <td>xgbClassifier</td>\n",
       "      <td>1.000000</td>\n",
       "      <td>1.000000</td>\n",
       "      <td>1.000000</td>\n",
       "      <td>0.870471</td>\n",
       "      <td>0.868917</td>\n",
       "      <td>0.870471</td>\n",
       "    </tr>\n",
       "  </tbody>\n",
       "</table>\n",
       "</div>"
      ],
      "text/plain": [
       "                   Model name  Train accuracy  Train precision  Train recall  \\\n",
       "0               Random Forest        1.000000         1.000000      1.000000   \n",
       "1           AdaBoostClassifie        0.849643         0.847281      0.849643   \n",
       "2  GradientBoostingClassifier        0.919286         0.918602      0.919286   \n",
       "3                  Gridsearch        0.860000         0.863081      0.860000   \n",
       "4                  upsampling        1.000000         1.000000      1.000000   \n",
       "5               xgbClassifier        1.000000         1.000000      1.000000   \n",
       "\n",
       "   Test accuracy  Test precision  Test recall  \n",
       "0       0.858392        0.856103     0.858392  \n",
       "1       0.836318        0.833453     0.836318  \n",
       "2       0.866306        0.863876     0.866306  \n",
       "3       0.842149        0.844453     0.842149  \n",
       "4       0.852561        0.854950     0.852561  \n",
       "5       0.870471        0.868917     0.870471  "
      ]
     },
     "execution_count": 147,
     "metadata": {},
     "output_type": "execute_result"
    }
   ],
   "source": [
    "performance_comparison "
   ]
  }
 ],
 "metadata": {
  "kernelspec": {
   "display_name": "Python 3",
   "language": "python",
   "name": "python3"
  },
  "language_info": {
   "codemirror_mode": {
    "name": "ipython",
    "version": 3
   },
   "file_extension": ".py",
   "mimetype": "text/x-python",
   "name": "python",
   "nbconvert_exporter": "python",
   "pygments_lexer": "ipython3",
   "version": "3.7.6"
  }
 },
 "nbformat": 4,
 "nbformat_minor": 4
}
